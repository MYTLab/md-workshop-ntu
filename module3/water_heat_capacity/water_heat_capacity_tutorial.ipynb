{
 "cells": [
  {
   "cell_type": "markdown",
   "metadata": {
    "tags": []
   },
   "source": [
    "\n",
    "# Water Heat Capacity Tutorial \n",
    "# 2022/12 completed by Heery@MYTLab\n",
    "MYT*Lab* website: https://mytsai.cc\n",
    "\n",
    "參考資料：\n",
    "- [NAMD tutorial ver.2017](https://www.ks.uiuc.edu/Training/Tutorials/namd-index.html)\n",
    "- [Levitt et al., J. Phys. Chem. B 1997](https://pubs.acs.org/doi/10.1021/jp964020s)\n",
    "\n",
    "此教程僅供教學用途\n",
    "\n",
    "All rights reserved."
   ]
  },
  {
   "cell_type": "markdown",
   "metadata": {
    "tags": []
   },
   "source": [
    " "
   ]
  },
  {
   "cell_type": "markdown",
   "metadata": {},
   "source": [
    "# 透過實際創建水盒並運行分子動力學模擬，以計算出與參考文獻實驗值相近的水的熱容量值"
   ]
  },
  {
   "cell_type": "markdown",
   "metadata": {},
   "source": [
    " "
   ]
  },
  {
   "cell_type": "markdown",
   "metadata": {},
   "source": [
    "# A. 水盒創建"
   ]
  },
  {
   "cell_type": "markdown",
   "metadata": {},
   "source": [
    " "
   ]
  },
  {
   "cell_type": "markdown",
   "metadata": {},
   "source": [
    "### &nbsp;&nbsp;&nbsp;A.0 打開 VMD ( 預設路徑應為: C:/Program Files (x86)/University of Illinois/VMD )\n",
    "### &nbsp;&nbsp;&nbsp;A.1 點選VMD Main的【`Extensions`】→【`Tk Console`】→ 鍵入:\n",
    "### &nbsp;&nbsp;&nbsp;&nbsp;&nbsp;&nbsp;&nbsp;&nbsp;cd ~/Desktop/water_heat_capacity/                           &nbsp;&nbsp;&nbsp;&nbsp;&nbsp;&nbsp;(更改為目標路徑) \n",
    "### &nbsp;&nbsp;&nbsp;A.2 再鍵入:\n",
    "### &nbsp;&nbsp;&nbsp;&nbsp;&nbsp;&nbsp;&nbsp;&nbsp;solvate -minmax {{0 0 0} {0 0 0}} -t 10 -o water_box        \n",
    "&nbsp;&nbsp;&nbsp;&nbsp;&nbsp;&nbsp;&nbsp;&nbsp;&nbsp;&nbsp;&nbsp;(solvate：VMD 中的一個指令，用於生成溶劑分子（通常是水）)\n",
    "\n",
    "&nbsp;&nbsp;&nbsp;&nbsp;&nbsp;&nbsp;&nbsp;&nbsp;&nbsp;&nbsp;&nbsp;(-minmax {{0 0 0} {0 0 0}}：這個選項使用了兩個三維向量來定義盒子的最小和最大坐標點(即空間範圍)，這裡兩個點相同，表示在該範圍內不考慮原子的位置，即以座標點{0 0 0}的每個方向上擴展 10 Å（埃）來生成水分子)\n",
    "#### #此時應該可於VMD的Main介面上看到一原子數量為 699 之水盒模型以及一視覺化水盒\n",
    "#### #於存檔目錄中檢查是否有產生 water_box.pdb 和 water_box.psf 兩個新檔案"
   ]
  },
  {
   "cell_type": "markdown",
   "metadata": {},
   "source": [
    " "
   ]
  },
  {
   "cell_type": "markdown",
   "metadata": {
    "tags": []
   },
   "source": [
    " "
   ]
  },
  {
   "cell_type": "markdown",
   "metadata": {},
   "source": [
    "# B. 使用NAMD進行分子動力學模擬"
   ]
  },
  {
   "cell_type": "markdown",
   "metadata": {},
   "source": [
    " "
   ]
  },
  {
   "cell_type": "markdown",
   "metadata": {
    "tags": []
   },
   "source": [
    "### &nbsp;&nbsp;&nbsp;B.0 打開 `JupyterLab`並確認左方視窗中路徑為 `Desktop/water_heat_capacity/` (路徑視需求更改)\n",
    "### &nbsp;&nbsp;&nbsp;B.1 檢查設定檔參數 > 於左方視窗中以滑鼠打開名為`water_heat_capacity.conf` 的檔案,檢查以下參數是否正確(已填好)\n",
    "        structure          water_box.psf      (注意路徑)\n",
    "        coordinates        water_box.pdb      (注意路徑)\n",
    "        \n",
    "        parameters          par_all27_prot_lipid.inp     (注意路徑)\n",
    "\n",
    "        set outputname     water_heat_capacity\n",
    "\n",
    "        >根據在`NAMD_tutorial B.3` 章節中，得到的{min_x min_y min_z} {max_x max_y max_z}\n",
    "        \n",
    "        >計算 max_x - min_x 得 length_x\n",
    "             max_y - min_y 得 length_y\n",
    "             max_z - min_z 得 length_z\n",
    "\n",
    "        >將 {length_x length_y length_z} 以及 {center_x center_y center_z} 的值取小數點至後一位，分別填入以下位置\n",
    "        (已填好，但須檢查是否與預設的值一樣)\n",
    "        \n",
    "        \n",
    "        cellBasisVector1       21    0.0    0.0\n",
    "        cellBasisVector2      0.0     21    0.0\n",
    "        cellBasisVector3      0.0    0.0     21\n",
    "              cellOrigin      0.0   -0.3    0.1\n",
    "              \n",
    "             \n",
    "        模擬步數: 預設為`100000`步             \n",
    "             \n",
    "### &nbsp;&nbsp;&nbsp;B.2 在JupyterLab在左方視窗中點擊 \" `+` \" → 在右方 `Launcher` 介面中點 `Other` 區塊中的 `Terminal` 鍵入:\n",
    "#### &nbsp;&nbsp;&nbsp;&nbsp;&nbsp;&nbsp;&nbsp;&nbsp; (Mac)\n",
    "### &nbsp;&nbsp;&nbsp;&nbsp;&nbsp;&nbsp;&nbsp;&nbsp; cd ~/Desktop/water_heat_capacity/\n",
    "#### &nbsp;&nbsp;&nbsp;&nbsp;&nbsp;&nbsp;&nbsp;&nbsp; (Windows)\n",
    "### &nbsp;&nbsp;&nbsp;&nbsp;&nbsp;&nbsp;&nbsp;&nbsp; cd ~\\Desktop\\water_heat_capacity\\ \n",
    "### &nbsp;&nbsp;&nbsp;B.3 再鍵入:\n",
    "#### &nbsp;&nbsp;&nbsp;&nbsp;&nbsp;&nbsp;&nbsp;&nbsp; (Mac)\n",
    "### &nbsp;&nbsp;&nbsp;&nbsp;&nbsp;&nbsp;&nbsp;&nbsp; ~/Desktop/NAMD_Tutorial_2022/NAMD_mac/namd2 ./water_heat_capacity.conf > water_heat_capacity.log\n",
    "#### &nbsp;&nbsp;&nbsp;&nbsp;&nbsp;&nbsp;&nbsp;&nbsp; (Windows)\n",
    "### &nbsp;&nbsp;&nbsp;&nbsp;&nbsp;&nbsp;&nbsp;&nbsp; ~\\Desktop\\NAMD_Tutorial_2022\\NAMD_exe\\namd2 .\\water_heat_capacity.conf > water_heat_capacity.log\n",
    "    \n",
    "#### #確認模擬是否成功執行並產生`water_heat_capacity.log`以及`water_heat_capacity.dcd`等檔案"
   ]
  },
  {
   "cell_type": "markdown",
   "metadata": {},
   "source": [
    " "
   ]
  },
  {
   "cell_type": "markdown",
   "metadata": {},
   "source": [
    "# C. 使用VMD的NAMD Plot功能匯出模擬系統隨時間變化的總能量值"
   ]
  },
  {
   "cell_type": "markdown",
   "metadata": {},
   "source": [
    " "
   ]
  },
  {
   "cell_type": "markdown",
   "metadata": {},
   "source": [
    "### &nbsp;&nbsp;&nbsp;C.0 變更`water_heat_capacity.log`文件編碼 > 於`water_heat_capacity`資料夾中打開檔名為`water_heat_capacity.log`的文字文件檔,並點擊左上角【`檔案 `】 → 【`另存新檔`】於下方更改檔名為`water_box_simulation.log`，並更改編碼方式為`UTF-8`後存檔\n",
    "### &nbsp;&nbsp;&nbsp;C.1 於 VMD Main 的【`Extensions`】→【`Analysis`】→【`NAMD Plot`】→ 點選 NAMD Plot 左上角的【`File`】 → 【`Select NAMD Log File`】→ 選取剛剛所另存新檔產生的`water_box_simulation.log`檔案\n",
    "### &nbsp;&nbsp;&nbsp;C.2 於下方 Plot on Y axis 區域內勾選【`TOTAL`】→ 最後點選左上角的【`File`】 → 【`Plot Selected Data`】以匯出總能量圖表\n",
    "### &nbsp;&nbsp;&nbsp;C.3 將總能量圖表的總能量值以文字檔匯出 > 於所匯出的能量能量圖表右上角點選【`File`】 → 【`Export to ASCII vectors...`】→將檔案命名為`total_energy.dat`並儲存於`water_heat_capacity`資料夾中"
   ]
  },
  {
   "cell_type": "markdown",
   "metadata": {},
   "source": [
    " "
   ]
  },
  {
   "cell_type": "markdown",
   "metadata": {},
   "source": [
    "# D. 用能量檔案進行熱容量計算"
   ]
  },
  {
   "cell_type": "markdown",
   "metadata": {},
   "source": [
    "### &nbsp;&nbsp;&nbsp;D.0 打開 `JupyterLab`並確認左方視窗中路徑為 `Desktop/water_heat_capacity/` (路徑視需求更改)"
   ]
  },
  {
   "cell_type": "markdown",
   "metadata": {},
   "source": [
    "### &nbsp;&nbsp;&nbsp;D.1 水盒熱容量計算"
   ]
  },
  {
   "cell_type": "markdown",
   "metadata": {},
   "source": [
    "#### &nbsp;&nbsp;&nbsp;&nbsp;&nbsp;&nbsp;&nbsp;&nbsp;D.1 (a.) 載入模組"
   ]
  },
  {
   "cell_type": "code",
   "execution_count": null,
   "metadata": {},
   "outputs": [],
   "source": [
    "import numpy as np\n",
    "import math"
   ]
  },
  {
   "cell_type": "markdown",
   "metadata": {},
   "source": [
    " "
   ]
  },
  {
   "cell_type": "markdown",
   "metadata": {},
   "source": [
    "#### &nbsp;&nbsp;&nbsp;&nbsp;&nbsp;&nbsp;&nbsp;&nbsp;D.1 (b.) 定義計算熱容量的公式\n",
    "$C_V= \\frac{\\left<E^2\\right>-\\left<E\\right>^2}{k_B T^2}$ (NVT ensemble)"
   ]
  },
  {
   "cell_type": "code",
   "execution_count": null,
   "metadata": {},
   "outputs": [],
   "source": [
    "#(定義了一個名為 Calculate_Cv 的函數，接受三個參數：energy_arr(隨時間變化的總能量)、T(模擬的設定溫度，單位為Kelvin))\n",
    "\n",
    "def Calculate_Cv(energy_arr, T):\n",
    "    cv_kcal = energy_arr.var() / (0.00198657*T**2) # kcal/mol*K                      #(0.00198657 是玻爾茲曼常數（以 kcal/(mol·K) 為單位）\n",
    "    print(\"Cv = \" + str(cv_kcal)+ \" kcal/(mol·K)\")\n",
    "    return cv_kcal"
   ]
  },
  {
   "cell_type": "markdown",
   "metadata": {},
   "source": [
    " "
   ]
  },
  {
   "cell_type": "markdown",
   "metadata": {},
   "source": [
    "#### &nbsp;&nbsp;&nbsp;&nbsp;&nbsp;&nbsp;&nbsp;&nbsp;D.1 (c.) 讀取總能量資料`total_energy1.dat`並做前處理，儲存於`total_energy`中"
   ]
  },
  {
   "cell_type": "code",
   "execution_count": null,
   "metadata": {},
   "outputs": [],
   "source": [
    "total_energy = np.loadtxt(\"total_energy.dat\", dtype=float, usecols=(1),skiprows=502) #忽略模擬時能量最小化部分"
   ]
  },
  {
   "cell_type": "markdown",
   "metadata": {},
   "source": [
    " "
   ]
  },
  {
   "cell_type": "markdown",
   "metadata": {},
   "source": [
    "#### &nbsp;&nbsp;&nbsp;&nbsp;&nbsp;&nbsp;&nbsp;&nbsp;D.1 (d.) 使用 `Calculate_Cv 函數`計算熱容量"
   ]
  },
  {
   "cell_type": "code",
   "execution_count": null,
   "metadata": {},
   "outputs": [],
   "source": [
    "Cv = Calculate_Cv(total_energy, 300)                    "
   ]
  },
  {
   "cell_type": "markdown",
   "metadata": {},
   "source": [
    "#### &nbsp;&nbsp;&nbsp;&nbsp;&nbsp;&nbsp;&nbsp;Ex. 須注意，由於此數值為總原子數699(即233個水分子)之水盒模擬系統,因此需要把熱容量結果/233個水分子，以對應實際的系統模擬結果"
   ]
  },
  {
   "cell_type": "code",
   "execution_count": null,
   "metadata": {},
   "outputs": [],
   "source": [
    "real_Cv = Cv / 233\n",
    "print(\"Cv = \" + str(real_Cv)+ \" kcal/(mol·K) \")"
   ]
  },
  {
   "cell_type": "markdown",
   "metadata": {},
   "source": [
    " "
   ]
  },
  {
   "cell_type": "markdown",
   "metadata": {},
   "source": [
    "# E. 將熱容量計算結果與參考文獻的TIP3P水模型熱容量以及參考網站上水比熱換算的實驗值做比較"
   ]
  },
  {
   "cell_type": "markdown",
   "metadata": {},
   "source": [
    "![Example Image](simulation_output_100000/water_heat_capacity.png)\n",
    "\n"
   ]
  },
  {
   "cell_type": "markdown",
   "metadata": {},
   "source": [
    "從上圖參考文獻可知,TIP3P水模型所計算的熱容量為 `17` cal/(mol·K) 即`0.017`kcal/(mol·K) = `3.9516`kJ/(kg·K)\n",
    "\n",
    "而根據網站\n",
    "[The Engineering Tookbox](https://www.engineeringtoolbox.com/specific-heat-capacity-water-d_660.html?vA=300&units=K#)\n",
    "可得溫度為300K時水熱容量/比熱的**實驗值**為`0.01777`kcal/(mol·K) = `4.13`kJ/(kg·K)\n",
    "\n",
    "試著將模擬計算結果與參考文獻的TIP3P水模型熱容量和網站所提供的實驗值比對\n",
    "\n",
    "由於每次模擬的獨立性,每次模擬熱容量計算誤差皆會有所不同，若想計算出更準確的熱容量值，可試著增加模擬步數使模擬系統穩定,並選取足夠收斂的能量部分再進行熱容量計算!"
   ]
  },
  {
   "cell_type": "code",
   "execution_count": null,
   "metadata": {},
   "outputs": [],
   "source": []
  }
 ],
 "metadata": {
  "kernelspec": {
   "display_name": "Python 3",
   "language": "python",
   "name": "python3"
  },
  "language_info": {
   "codemirror_mode": {
    "name": "ipython",
    "version": 3
   },
   "file_extension": ".py",
   "mimetype": "text/x-python",
   "name": "python",
   "nbconvert_exporter": "python",
   "pygments_lexer": "ipython3",
   "version": "3.8.5"
  }
 },
 "nbformat": 4,
 "nbformat_minor": 5
}
