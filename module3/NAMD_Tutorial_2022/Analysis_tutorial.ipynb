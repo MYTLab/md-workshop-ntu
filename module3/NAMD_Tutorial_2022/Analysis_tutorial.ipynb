{
 "cells": [
  {
   "cell_type": "markdown",
   "metadata": {},
   "source": [
    "# Analysis tutorial\n",
    "- ## Created : 2020/12/10\n",
    "- ## Created by Yoyo, Jeff\n",
    "- ### Last edit : 2020/12/31\n",
    "\n",
    "MYT*Lab* website: https://mytsai.cc\n",
    "\n",
    "參考資料：\n",
    "- [NAMD tutorial ver.2017](https://www.ks.uiuc.edu/Training/Tutorials/namd-index.html)\n",
    "\n",
    "此教程僅供教學用途\n",
    "\n",
    "All rights reserved."
   ]
  },
  {
   "cell_type": "markdown",
   "metadata": {},
   "source": [
    "\n",
    "\n",
    "### 縮寫:\n",
    "### VMD TkCon   =  Tk Console"
   ]
  },
  {
   "cell_type": "markdown",
   "metadata": {},
   "source": [
    "# `(必讀) 解壓縮確認注意事項 : `\n",
    "##  >  課程下載  : 檔名為 : `NAMD_Tutorial_2022.zip`  的壓縮檔。\n",
    "##  >  點開壓縮檔( `NAMD_Tutorial_2022.zip` )將裡頭的 `NAMD_Tutorial_2022 ` 資料夾用滑鼠將其移至`桌面`上。\n",
    "##  0. 在桌面上點擊檔名為 `NAMD_Tutorial_2022 ` 的資料夾，並進入。\n",
    "##  1. 點擊 vmd 的安裝檔( `vmd193win32nocuda`) ，以程式預設的路徑直接安裝 VMD 即可。\n",
    "##  2.  分子動力學模擬程式( NAMD )的執行檔在資料夾中(`NAMD_Tutorial_2022`)的子資料夾(`NAMD_exe`)裡頭，'檔名為 `namd2` 之檔案。 \n",
    "　\n",
    "##  > 執行 `JupyterLab` → 在左方視窗中移動路徑到 Desktop/NAMD_Tutorial_2022/ \n",
    "## 中 → 點選檔案 `Analysis_tutorial.ipynb`"
   ]
  },
  {
   "cell_type": "markdown",
   "metadata": {},
   "source": [
    "　"
   ]
  },
  {
   "cell_type": "markdown",
   "metadata": {},
   "source": [
    "　"
   ]
  },
  {
   "cell_type": "markdown",
   "metadata": {},
   "source": [
    "　"
   ]
  },
  {
   "cell_type": "markdown",
   "metadata": {},
   "source": [
    "# `(重要)專題實作注意事項 : `\n",
    "## 　　(1.)若使用本教學文件裡面的分析方法製作  `專題實作`時，請根據自己的需求跟改 `檔案名稱` 與 `資料夾路徑`。\n",
    "## 　　(２.)並依照自己的需求更改、增加模擬。"
   ]
  },
  {
   "cell_type": "markdown",
   "metadata": {},
   "source": [
    "  "
   ]
  },
  {
   "cell_type": "markdown",
   "metadata": {},
   "source": [
    "  "
   ]
  },
  {
   "cell_type": "markdown",
   "metadata": {},
   "source": [
    "  "
   ]
  },
  {
   "cell_type": "markdown",
   "metadata": {},
   "source": [
    "  "
   ]
  },
  {
   "cell_type": "markdown",
   "metadata": {},
   "source": [
    "# A. Specific Heat \n",
    "### 簡介:\n",
    "### 如果我們在 NAMD_tutorial.ipynb 的章節 (C.) 中，將模擬的時間步長增加，\n",
    "### (也就是在檔案 `ubq_wb_eq.conf` 中的 參數 `run` 的值改更大)，\n",
    "### 將得到足夠的能量資訊及模擬的動態結構用以計算蛋白質比熱。\n",
    "### 考量到計算時間的花費，已先將模擬完成。\n",
    "\n",
    "\n",
    "## 0. 打開 VMD ( 預設路徑應為: C:\\Program Files (x86)\\University of Illinois\\VMD )\n",
    "## 1. 點VMD Main的【`Extensions`】→【`Tk Console`】→鍵入\n",
    "### 　cd   ~/Desktop/NAMD_Tutorial/Analysis_dir/\n",
    "## 2. 再鍵入或(複製貼上下列指令)\n",
    "### 　mol  new Specific-Heat/300K/ubq_wb_eq.dcd\n",
    "### 　mol  addfile Specific-Heat/300K/ubq_wb.psf\n",
    "## 3. 在VMD Main 中點【`Extensions`】→ 【`Analysis`】→【`NAMD Energy`】\n",
    "### 依照下列指示輸入或選取:\n",
    "###   `Selection 1`　　: 　　　protein\n",
    "###   `Energy Type` 　:　　　ALL\n",
    "###   `Output File`　　:　　　ubq_wb_energy-300K.dat\n",
    "###  `Parameter Files(opt)`:　點選`Find` 找到 par_all27_prot_lipid.inp  (檔案在桌面上的NAMD_Tutorial/Working_dir 路徑中)　　\n",
    "### 完成後點擊  `Run NAMDEnergy`\n",
    "　　\n",
    "### 如果顯示出 : `Cluld not locate 'namd2'`\n",
    "### 請點 `是(Y)` → 從路徑: 桌面上的 NAMD_Tutorial_2022/NAMD_exe/namd2.exe  選擇後→  `開啟`\n",
    "## 4. 此時你會看到檔案 `ubq_wb_energy-300K.dat` 出現在資料夾 `Analysis_dir` 中。\n",
    "## 並有 `ubq_wb_energy-350K.dat`  及 `ubq_wb_energy-400K.dat` 檔案也再當下目錄。\n",
    "　\n",
    "　\n",
    "#### 備註: `ubq_wb_energy-350K.dat`  及 `ubq_wb_energy-400K.dat` 是當你從重複步驟 A.(2.)~ A.(3.) ，但只是將相\n",
    "#### 關檔案改成分別位在 `Specific-Heat/350K` 及 `Specific-Heat/400K` 資料夾中的相對應 `ubq_wb.psf` 及 `ubq_wb_eq.dcd` 檔案並將 .dat\n",
    "#### 檔案輸出檔名改成相對應的模擬溫度而已。 \n",
    "#### 此流程已經簡化，同學們不必執行。\n",
    "　\n",
    "　\n",
    "## 5. 得到系統中的蛋白質質量\n",
    "### 　在`Tk Console` 中鍵入或(複製貼上下列指令)：\n",
    "### 　　source   get_mass.tcl\n",
    "### 　　get_total_mass\n",
    "#### 此時畫面給出的值應為 `8564.866839528084` $amu$ 左右"
   ]
  },
  {
   "cell_type": "markdown",
   "metadata": {},
   "source": [
    "## 6. 確認 `JupyterLab` 左方視窗中路徑為 `Desktop/NAMD_Tutorial_2022/Analysis_dir/` 中 \n",
    "## 7. 比熱計算:\n",
    "## 　(a.)載入模組"
   ]
  },
  {
   "cell_type": "code",
   "execution_count": null,
   "metadata": {},
   "outputs": [],
   "source": [
    "import numpy as np\n",
    "import matplotlib.pyplot as plt\n",
    "import seaborn as sns \n",
    "import math"
   ]
  },
  {
   "cell_type": "markdown",
   "metadata": {},
   "source": [
    "## 　(b.)定義計算比熱的函數"
   ]
  },
  {
   "cell_type": "code",
   "execution_count": null,
   "metadata": {},
   "outputs": [],
   "source": [
    "def Calculate_Cv(energy_arr, T, mass):\n",
    "    cv_kcal = energy_arr.var() / (0.00198657*T**2) # kcal/mol/K \n",
    "    cv_J = cv_kcal / (mass * 2.388620656092e-07) # J/(kg degree(Celsius))\n",
    "    print(\"Cv = \" + str(cv_kcal)+ \" k cal 　K/mol \")\n",
    "    print(\"Cv = \" + str(cv_J)  +  \" J/(kg 度C)\" )\n",
    "    return cv_kcal, cv_J"
   ]
  },
  {
   "cell_type": "markdown",
   "metadata": {},
   "source": [
    "## 　(c.)讀取能量的資料並做前處裡 (以300K 溫度系統為例)"
   ]
  },
  {
   "cell_type": "code",
   "execution_count": null,
   "metadata": {},
   "outputs": [],
   "source": [
    "#input_data_file = \"My_Project_dir/ENERGY.dat\"  \n",
    "#energy_data = np.loadtxt(input_data_file, dtype=float, usecols=(10), skiprows=1)  ##只要total energy項 "
   ]
  },
  {
   "cell_type": "code",
   "execution_count": null,
   "metadata": {},
   "outputs": [],
   "source": [
    "energy_data_300 = np.loadtxt(\"Analysis_dir/ubq_wb_energy-300K.dat\", dtype=float, usecols=(10), skiprows=1)  ##只要total energy項 "
   ]
  },
  {
   "cell_type": "markdown",
   "metadata": {},
   "source": [
    "## 　(d.)將下列函數相對應參數位子改成(以300K 溫度系統為例)\n",
    "### 　`Calculate_Cv(energy_data , 300, 8564.8668)`\n",
    "### 　你的`energy_arr` 即為 `energy_data`  \n",
    "### 　因為你讀取的.dat 檔案為系統溫度為 300K 的環境條件。\n",
    "### 　所以　`Calculate_Cv(energy_arr, T, mass)` 中的 `T` 改成 300\n",
    "### 　，`mass` 改成剛剛在 A.(5.)中所計算的蛋白質質量，並取小數點後4位:所以得　`8564.8668`\n",
    "#### 　300K:"
   ]
  },
  {
   "cell_type": "code",
   "execution_count": null,
   "metadata": {},
   "outputs": [],
   "source": [
    "#Calculate_Cv(energy_arr, T, mass)"
   ]
  },
  {
   "cell_type": "code",
   "execution_count": null,
   "metadata": {},
   "outputs": [],
   "source": [
    "Calculate_Cv(energy_data_300, 300, 8564.8668)"
   ]
  },
  {
   "cell_type": "markdown",
   "metadata": {},
   "source": [
    "## 　(e.)計算不同溫度下之比熱\n",
    "### 　請同學將A.(7.(C.))程式碼區塊中 `input_data_file` 的 `ubq_wb_energy-300K.dat` \n",
    "### 　輪流改成 `ubq_wb_energy-350K.dat` 及`ubq_wb_energy-400K.dat` 並執行，\n",
    "### 　再將 `Calculate_Cv(energy_arr, T, mass)` 的 T 改成相對應的值後計算\n",
    "### 　系統分別在 350K及 400K的比熱!\n",
    "## 執行區塊:(練習)"
   ]
  },
  {
   "cell_type": "code",
   "execution_count": null,
   "metadata": {},
   "outputs": [],
   "source": [
    "# 自訂名稱 = np.loadtxt(\"目標檔案路徑\", dtype=float, usecols=(10), skiprows=1)  ##只要total energy項 "
   ]
  },
  {
   "cell_type": "code",
   "execution_count": null,
   "metadata": {},
   "outputs": [],
   "source": [
    "# Calculate_Cv(自訂名稱, 溫度, 8564.8668)"
   ]
  },
  {
   "cell_type": "markdown",
   "metadata": {},
   "source": [
    "#### (練習一.)350K:"
   ]
  },
  {
   "cell_type": "code",
   "execution_count": null,
   "metadata": {},
   "outputs": [],
   "source": [
    "NEW_VAR1 = np.loadtxt(\"NEW_FILE_PATH1\", dtype=float, usecols=(10), skiprows=1)  ##只要total energy項 "
   ]
  },
  {
   "cell_type": "code",
   "execution_count": null,
   "metadata": {
    "tags": []
   },
   "outputs": [],
   "source": [
    "Calculate_Cv(NEW_VAR1, 350, 8564.8668)"
   ]
  },
  {
   "cell_type": "markdown",
   "metadata": {},
   "source": [
    "#### 　(練習二.)400K:"
   ]
  },
  {
   "cell_type": "code",
   "execution_count": null,
   "metadata": {},
   "outputs": [],
   "source": []
  },
  {
   "cell_type": "code",
   "execution_count": null,
   "metadata": {},
   "outputs": [],
   "source": []
  },
  {
   "cell_type": "markdown",
   "metadata": {},
   "source": [
    "#### 得到的值應該分別為\n",
    "#### 300K :\n",
    "##### 　14.975　k cal  K/mol  、   7320.187  J/(kg 度C)\n",
    "#### 350K :\n",
    "##### 　23.989　k cal  K/mol  、 11726.321  J/(kg 度C)\n",
    "#### 400K :\n",
    "##### 　17.526　k cal  K/mol  、   8566.905  J/(kg 度C)"
   ]
  },
  {
   "cell_type": "markdown",
   "metadata": {},
   "source": [
    "## 8. 將上述各 .dat 檔案作圖\n",
    "## 　(a.)載入模組"
   ]
  },
  {
   "cell_type": "code",
   "execution_count": null,
   "metadata": {},
   "outputs": [],
   "source": [
    "import matplotlib.pyplot as plt"
   ]
  },
  {
   "cell_type": "markdown",
   "metadata": {},
   "source": [
    "## 　(b.)資料處理"
   ]
  },
  {
   "cell_type": "code",
   "execution_count": null,
   "metadata": {},
   "outputs": [],
   "source": [
    "for i in [\"300\",\"350\",\"400\"]:\n",
    "    input_data_file = \"Analysis_dir/ubq_wb_energy-%sK.dat\" %(i)\n",
    "    if i == \"300\":\n",
    "        energy_data = np.loadtxt(input_data_file, dtype=float, usecols=(10), skiprows=1)  ##只要total energy項 \n",
    "        TF = np.arange(len(energy_data))\n",
    "        energy_data = np.c_[TF,energy_data]\n",
    "    if i != \"300\":\n",
    "        energy_data_temp = np.loadtxt(input_data_file, dtype=float, usecols=(10), skiprows=1)  ##只要total energy項 \n",
    "        energy_data = np.c_[energy_data,energy_data_temp]"
   ]
  },
  {
   "cell_type": "markdown",
   "metadata": {},
   "source": [
    "## 　(b-2.)資料預覽"
   ]
  },
  {
   "cell_type": "code",
   "execution_count": null,
   "metadata": {},
   "outputs": [],
   "source": [
    "energy_data_300"
   ]
  },
  {
   "cell_type": "markdown",
   "metadata": {},
   "source": [
    "## 　(c.)畫能量隨時間之變化關係圖"
   ]
  },
  {
   "cell_type": "code",
   "execution_count": null,
   "metadata": {},
   "outputs": [],
   "source": [
    "#plt.style.use('seaborn-whitegrid')\n",
    "plt.figure(figsize=(15,8))\n",
    "plt.title('Total Energy fluctuation in different temperature',fontsize=25)\n",
    "##300K##\n",
    "plt.plot(energy_data[:,0], energy_data[:,1], '-', linewidth = 1, label = '300K' ,color = \"b\" )\n",
    "##350K##\n",
    "plt.plot(energy_data[:,0], energy_data[:,2], '-', linewidth = 1, label = '350K' ,color = \"y\")\n",
    "##400K##\n",
    "plt.plot(energy_data[:,0], energy_data[:,3], '-', linewidth = 1, label = '400K' ,color = \"r\")\n",
    "\n",
    "plt.xlabel(\"Time frame\", fontsize=20)\n",
    "plt.ylabel(\"k $cal/mol$\", fontsize=20)\n",
    "\n",
    "plt.rc('xtick',labelsize=14)\n",
    "plt.rc('ytick',labelsize=14)\n",
    "leg = plt.legend()\n",
    "leg_lines = leg.get_lines()\n",
    "leg_texts = leg.get_texts()\n",
    "plt.setp(leg_lines, linewidth=4)\n",
    "#15\n",
    "plt.setp(leg_texts, fontsize=20)"
   ]
  },
  {
   "cell_type": "markdown",
   "metadata": {},
   "source": [
    "## (d.)畫在不同溫度下的能量分布關係圖"
   ]
  },
  {
   "cell_type": "code",
   "execution_count": null,
   "metadata": {},
   "outputs": [],
   "source": [
    "#import seaborn as sns"
   ]
  },
  {
   "cell_type": "code",
   "execution_count": null,
   "metadata": {},
   "outputs": [],
   "source": [
    "#plt.style.use('seaborn-whitegrid')\n",
    "plt.figure(figsize=(12,8))\n",
    "plt.title('Total Energy distribution in different temperature',fontsize=25)\n",
    "# sns.distplot(energy_data[:,1], hist=True , norm_hist=True, bins=30 ,kde=True, kde_kws=dict(color=\"b\",linewidth=4,label=\"300K\"))\n",
    "# sns.distplot(energy_data[:,2], hist=True , norm_hist=True, bins=30 ,kde=True, kde_kws=dict(color=\"y\",linewidth=4,label=\"350K\"))\n",
    "# sns.distplot(energy_data[:,3], hist=True , norm_hist=True, bins=30 ,kde=True, kde_kws=dict(color=\"r\",linewidth=4,label=\"400K\"))\n",
    "plt.hist(energy_data[:,1], bins=50, label=\"300K\", color = \"b\")\n",
    "plt.hist(energy_data[:,2], bins=50, label=\"350K\", color = \"y\")\n",
    "plt.hist(energy_data[:,3], bins=50, label=\"400K\", color = \"r\")\n",
    "plt.xlabel(\"k $cal/mol$\", fontsize=20)\n",
    "plt.ylabel('Frequency',fontsize=20) \n",
    "leg = plt.legend()\n",
    "leg_lines = leg.get_lines()\n",
    "leg_texts = leg.get_texts()\n",
    "plt.setp(leg_lines, linewidth=4)\n",
    "plt.setp(leg_texts, fontsize=15)"
   ]
  },
  {
   "cell_type": "code",
   "execution_count": null,
   "metadata": {},
   "outputs": [],
   "source": [
    "plt.figure(figsize=(12,8))\n",
    "plt.title('Total Energy distribution in different temperature',fontsize=25)\n",
    "sns.distplot(energy_data[:,1], hist=True , norm_hist=True, bins=30 ,kde=True, kde_kws=dict(color=\"b\",linewidth=4,label=\"300K\"))\n",
    "sns.distplot(energy_data[:,2], hist=True , norm_hist=True, bins=30 ,kde=True, kde_kws=dict(color=\"y\",linewidth=4,label=\"350K\"))\n",
    "sns.distplot(energy_data[:,3], hist=True , norm_hist=True, bins=30 ,kde=True, kde_kws=dict(color=\"r\",linewidth=4,label=\"400K\"))\n",
    "plt.xlabel(\"k $cal/mol$\", fontsize=20)\n",
    "plt.ylabel('Relative Frequency',fontsize=20) \n",
    "leg = plt.legend()\n",
    "leg_lines = leg.get_lines()\n",
    "leg_texts = leg.get_texts()\n",
    "plt.setp(leg_lines, linewidth=4)\n",
    "plt.setp(leg_texts, fontsize=15)"
   ]
  },
  {
   "cell_type": "code",
   "execution_count": null,
   "metadata": {},
   "outputs": [],
   "source": []
  }
 ],
 "metadata": {
  "kernelspec": {
   "display_name": "Python 3 (ipykernel)",
   "language": "python",
   "name": "python3"
  },
  "language_info": {
   "codemirror_mode": {
    "name": "ipython",
    "version": 3
   },
   "file_extension": ".py",
   "mimetype": "text/x-python",
   "name": "python",
   "nbconvert_exporter": "python",
   "pygments_lexer": "ipython3",
   "version": "3.8.19"
  }
 },
 "nbformat": 4,
 "nbformat_minor": 4
}
