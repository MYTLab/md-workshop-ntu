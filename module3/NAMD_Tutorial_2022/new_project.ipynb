{
 "cells": [
  {
   "cell_type": "markdown",
   "metadata": {},
   "source": [
    "# NAMD tutorial for 專題計畫\n",
    "- ## Created : 2020/12/28\n",
    "- ## Created by Yoyo, Jeff\n",
    "- ### Last update: 2024/8/24 by MYT\n",
    "\n",
    "MYT*Lab* website: https://mytsai.cc\n",
    "\n",
    "參考資料：\n",
    "- [NAMD tutorial ver.2017](https://www.ks.uiuc.edu/Training/Tutorials/namd-index.html)\n",
    "\n",
    "此教程僅供教學用途\n",
    "\n",
    "All rights reserved."
   ]
  },
  {
   "cell_type": "markdown",
   "metadata": {},
   "source": [
    "\n",
    "\n",
    "### 縮寫:\n",
    "### VMD TkCon   =  Tk Console"
   ]
  },
  {
   "cell_type": "markdown",
   "metadata": {},
   "source": [
    "# `(必讀) 解壓縮注意事項 : `\n",
    "##  >  課程下載  : 檔名為 : `NAMD_Tutorial_2022.zip`  的壓縮檔。\n",
    "##  >  點開壓縮檔( `NAMD_Tutorial_2022.zip` )將 `NAMD_Tutorial_2022 ` 資料夾用滑鼠將其移至`桌面`上。\n",
    "##  0. 在桌面上點擊檔名為 `NAMD_Tutorial_2022 ` 的資料夾，並進入。\n",
    "##  1. 點擊 vmd 的安裝檔( `vmd193win32nocuda`) ，以程式預設的路徑直接安裝 VMD 即可。\n",
    "##  2.  分子動力學模擬程式( NAMD )的執行檔在資料夾中(`NAMD_Tutorial_2022`)的子資料夾(`NAMD_exe/NAMD_mac`)裡頭，'檔名為 `namd2` 之檔案。 \n"
   ]
  },
  {
   "cell_type": "markdown",
   "metadata": {},
   "source": [
    " "
   ]
  },
  {
   "cell_type": "markdown",
   "metadata": {},
   "source": [
    " "
   ]
  },
  {
   "cell_type": "markdown",
   "metadata": {},
   "source": [
    " "
   ]
  },
  {
   "cell_type": "markdown",
   "metadata": {},
   "source": [
    "# `(重要)專題實作注意事項 : `\n",
    "## 如果同學欲使用 NAMD 製作  `專題實作` ，請先按照本欄位相關步驟 ( `> 1 ` ~ `> 5`)執行或了解相關事項。\n",
    "## `> 1`  : \n",
    "## 　在 Protein Data Bank 網站: `https://www.rcsb.org/`  找尋有興趣的蛋白質，\n",
    "### 　  `(補充)盡量找小一點的蛋白質(建議胺基酸序列長度約<200左右)，避免計算資源超出個人電腦負荷。`\n",
    "### 　　　:　可以從該蛋白質資訊頁面點擊【`Display Files`】→ 【`Fasta Sequence`】 看到該 .pdb 檔案的資訊:\n",
    "### 　　　`範例`:\n",
    " 　　　　　　　>7CMH|Chain A|\n",
    "\n",
    "　　　　　　　　MAHHHHHHHHHHSGRELQPPEASIAVVSI\n",
    "        \n",
    " 　　　　　　　>7CMH|Chain B|\n",
    "\n",
    "　　　　　　　　MADYKDDDDKSGPDEVDASGREEGA\n",
    "### 　　   　根據例子所示該PDB檔案 有兩條鏈組成(Chain A 、 Chain B)，而胺基酸長度則是跟別為(Chain A : 29個 ；Chain B : 25個)\n",
    "## `> 2`   :\n",
    "## 　下載其 .pdb 檔案格式 : 從該蛋白質資訊頁面點擊【`Download Files`】→ 【`PDB format`】\n",
    "## 　並將該下載的 .pdb 檔案移至桌面上 `/NAMD_Tutorial_2021` 資料夾中的 `/My_Project_dir` 資料夾。\n",
    "## 　`請務必記住你所下載的檔案名稱`　也就是 `某某.pdb`。\n",
    "\n",
    "## `> 3`   :\n",
    "## 　若使用 `JupyterLab` 無法開啟檔案的時候，可以在 Windows 中搜尋 WordPad 程式，使用該程式來打該你要的文件。\n",
    "\n",
    "## `> 4`   :\n",
    "## 　若使用 Analysis_tutorial.ipynb 教學文件裡面的分析方法時，請根據自己的需求跟改 `檔案名子` 與 `資料夾路徑`。 \n",
    "\n",
    "## `> 5`   :\n",
    "## 　可依自己的需求更改、增加模擬。(例如自己創建資料夾放置模擬不同溫度條件的資料)"
   ]
  },
  {
   "cell_type": "markdown",
   "metadata": {},
   "source": [
    " "
   ]
  },
  {
   "cell_type": "markdown",
   "metadata": {},
   "source": [
    " "
   ]
  },
  {
   "cell_type": "markdown",
   "metadata": {},
   "source": [
    "# A. 生成.psf 檔\n",
    "## 0. 打開 VMD ( 預設路徑應為: C:\\Program Files (x86)\\University of Illinois\\VMD  ; 若是使用Mac則應該是/Users/aa)\n",
    "## 1. 點VMD Main的【`Extensions`】→【`Tk Console`】→鍵入\n",
    "###  　cd   ~/Desktop/NAMD_Tutorial_2021/My_Project_dir/\n",
    "## 2. 點VMD Main的【`file`】→【`New molecule`】→【`Browse...`】→選擇`某某.pdb` \n",
    "## →Determine file type 選【`Automaticlally`】→【`Load`】\n",
    "## 在　`Tk Console`　視窗中\"逐行\"鍵入(可以用\"逐行\"複製的方式並貼上)：\n",
    "    set my_structure [atomselect top protein]  \n",
    "    \n",
    "### 　`補充`\n",
    "### 　　　若你很有興趣的蛋白質有多條鏈並想擷取其中一條鏈來模擬：\n",
    "### 　　　請將上面的： \n",
    "####    　　　　set my_structure [atomselect top protein] \n",
    "### 　　　改成：\n",
    "####    　　　　set my_structure [atomselect top \"chain X\"]\n",
    "#### 　　　　　　　　　>>> X 為你的 `某某.pdb`  檔案中所記錄的 chain index 。 例如:A or B or C 、、、、、\n",
    "### 　\n",
    "## 在　`Tk Console`　視窗中\"逐行\"鍵入(可以用\"逐行\"複製的方式並貼上)：\n",
    "    $my_structure writepdb my_protein.pdb\n",
    "###  → 此時 `My_Project_dir/` 資料夾會產生 my_protein.pdb 檔案。\n",
    "## 3. 打開 `JupyterLab` → 在左方視窗中移動路徑到 `Desktop/NAMD_Tutorial_2021/My_Project_dir/` 中 → 在右方 Launcher 介面中點 Other 區塊中的 `Text File` 的選項，以開啟一個新的 txt 檔案。\n",
    "## → 在 `JupyterLab` 介面中的`untitled.txt`視窗中鍵入或(複製貼上下列指令) \n",
    "\n",
    "    package require psfgen\n",
    "    topology top_all27_prot_lipid.inp\n",
    "    pdbalias residue HIS HSE\n",
    "    pdbalias atom ILE CD1 CD\n",
    "    segment U {pdb my_protein.pdb}\n",
    "    coordpdb my_protein.pdb U\n",
    "    guesscoord\n",
    "    writepdb my_project.pdb\n",
    "    writepsf my_project.psf\n",
    "    \n",
    "##  →在左方視窗中以滑鼠\"右鍵\"點擊名為`untitled.txt` 的檔案，選擇 Rename 並改名為 `my_project.pgn`\n",
    "    \n",
    "## 4. 在　`Tk Console`　輸入(可以用複製的方式並貼上)：\n",
    "    source my_project.pgn\n",
    "    \n",
    "###  → 此時 `My_Project_dir/` 資料夾會產生兩個新檔案：my_project.pdb, my_project.psf"
   ]
  },
  {
   "cell_type": "code",
   "execution_count": null,
   "metadata": {},
   "outputs": [],
   "source": []
  },
  {
   "cell_type": "markdown",
   "metadata": {},
   "source": [
    "## 筆記區:"
   ]
  },
  {
   "cell_type": "markdown",
   "metadata": {},
   "source": [
    ":"
   ]
  },
  {
   "cell_type": "code",
   "execution_count": null,
   "metadata": {},
   "outputs": [],
   "source": []
  },
  {
   "cell_type": "markdown",
   "metadata": {},
   "source": [
    "# B. Solvating the Protein\n",
    "# protein in a water box\n",
    "## 1. 在　`Tk Console`　\"逐行\"鍵入(可以用\"逐行\"複製的方式並貼上)：\n",
    "    package  require  solvate\n",
    "    solvate  my_project.psf  my_project.pdb  -t 5 -o my_project_wb\n",
    "###  →此指令將蛋白質附近（> 5 angstrom）加入一堆水分子形成蛋白質水合模型（正立方水盒子），並產生兩個新檔案：\n",
    "###   my_project_wb.pdb, my_project_wb.psf\n",
    "## 2. VMD Main 中已自動新增一 PSF檔案名為 `my_project_wb.psf` 並讀進了一PDB結構檔案名為 `my_project_wb.pdb` 故 Frames 為 1\n",
    "## 3. 回到VMD　`Tk Console`　鍵入(同樣可以用“逐行”複製的方式並貼上)：\n",
    "## (注意 'my_project_wb.psf'前面是否有\"T\"字母)\n",
    "\n",
    "    set everyone [atomselect top all] \n",
    "    measure center $everyone\n",
    "    \n",
    "#### 　　　　　　>>>>會得三個數字分別代表(`center_x`、 `center_y` 、`center_z`) \n",
    "                                \n",
    "    measure minmax $everyone\n",
    "\n",
    "#### 　　　　　　>>>>會得六個數字分別代表{`min_x` 、`min_y` 、`min_z`} {`max_x`、 `max_y`、 `max_z`}\n",
    "                                \n",
    "##  →上面的指令分別計算整個盒子的 x,y,z “中心” 以及 “大小”"
   ]
  },
  {
   "cell_type": "markdown",
   "metadata": {},
   "source": [
    "## 筆記區:"
   ]
  },
  {
   "cell_type": "markdown",
   "metadata": {},
   "source": [
    ":"
   ]
  },
  {
   "cell_type": "code",
   "execution_count": null,
   "metadata": {},
   "outputs": [],
   "source": []
  },
  {
   "cell_type": "markdown",
   "metadata": {},
   "source": [
    "# C. Your protein in a Water Box: Simulation with Periodic Boundary Conditions\n",
    "\n",
    "# `(重要)專題實作注意事項 : `\n",
    "## 1. : 在 `JupyterLab` 在左方視窗中以滑鼠打開名為: `my_project_eq.conf` 的檔案\n",
    "        檢查或依需求以下參數 :\n",
    "      \n",
    "        structure          my_project_wb.psf      (注意路徑)\n",
    "        coordinates        my_project_wb.pdb      (注意路徑)\n",
    "\n",
    "        set outputname     my_project_wb_eq   \n",
    "### 　　　　　　　　　上面`my_project_wb_eq` 可以隨自己需求更改，若有更改請記住該名字!!\n",
    "### 　　　>根據剛剛在 B. 3 章節中，得到的{`min_x` `min_y` `min_z`} {`max_x` `max_y` `max_z`} 六個數字\n",
    "        \n",
    "        來計算  :\n",
    "#####       　　　　 `max_x` - `min_x` 得 `length_x`  \n",
    "#####       　　　　 `max_y` - `min_y` 得 `length_y`\n",
    "#####       　　　　 `max_z` - `min_z` 得 `length_z`\n",
    "\n",
    "##### 　　　>將 {`length_x` `length_y` `length_z`} 以及 {`center_x` `center_y` `center_z`} 六個數字的值取小數點至後一位，分別填入以下位置\n",
    "####       (請確實將數值填好)\n",
    "        \n",
    "        \n",
    "        cellBasisVector1\tlength_x         0.0\t    0.0\n",
    "        cellBasisVector2         0.0    length_y        0.0\n",
    "        cellBasisVector3\t     0.0         0.0   length_z\n",
    "             cellOrigin     center_x    center_y   center_z\n",
    "#### `提醒` : 請手動更改 `my_project_eq.conf`  (按照上面 `C. 1` 章節執行，`但不是只是確認參數!!!`)\n",
    "#### 　`length_x 、 length_y 、 length_z 、 center_x 、 center_y 、 center_z` 所代表的數字確定都要替代掉預設的字串。\n",
    "#### 　　　舉例　：\n",
    "##### 　　　　　　　`length_x`　為　23.5\n",
    "#### 　　　所以　：\n",
    "##### 　　　　　　　cellBasisVector1\t　length_x  　       0.0\t   　 0.0\n",
    "#### 　　　改成　：\n",
    "##### 　　　　　　　cellBasisVector1\t　23.5     　　　    0.0\t  　  0.0\n",
    "\n",
    "\n",
    "\n",
    "## (補充 1.) : 若想跟改溫度\n",
    "##### 　　　　　　　set temperature    310\n",
    "#### 　　　改成 :\n",
    "##### 　　　　　　　set temperature    `自己要的溫度值`\n",
    "### (補充 2.): 若想跟改模擬時間尺度\n",
    "##### 　　　　　　　run 2500 ;# 5ps\n",
    "#### 　　　改成 :\n",
    "##### 　　　　　　　run  `自己要的值`"
   ]
  },
  {
   "cell_type": "markdown",
   "metadata": {},
   "source": [
    "## 2. 開始使用分子動力學模擬程式 (NAMD)\n",
    "### 在 `JupyterLab` 在左方視窗中點擊 \" `+` \" → 在右方 Launcher 介面中點 Other 區塊中的 `Terminal` →\n",
    "###  鍵入(可複製貼上) :\n",
    "\n",
    "    (Mac)\n",
    "    cd ~/Desktop/NAMD_Tutorial_2021/My_Project_dir/\n",
    "    \n",
    "    (Windows)\n",
    "    cd ~\\Desktop\\NAMD_Tutorial_2021\\My_Project_dir\\ \n",
    "###  再鍵入(可複製貼上) :\n",
    "\n",
    "    (Mac)\n",
    "    ~/Desktop/NAMD_Tutorial_2021/NAMD_mac/namd2 ./my_project_eq.conf > my_project_wb_eq.log\n",
    "\n",
    "    (Windows)\n",
    "    ~\\Desktop\\NAMD_Tutorial_2021\\NAMD_exe\\namd2.exe .\\my_project_eq.conf > my_project_wb_eq.log\n"
   ]
  },
  {
   "cell_type": "markdown",
   "metadata": {},
   "source": [
    "## 3. 確認檔案是否已輸出\n",
    "###  可以從桌面上點擊檔名為 `NAMD_Tutorial_2021` 的資料夾，並在裡頭的`My_Project_dir` 中確認。"
   ]
  },
  {
   "cell_type": "markdown",
   "metadata": {},
   "source": [
    "## 4. 使用VMD觀察模擬軌跡"
   ]
  },
  {
   "cell_type": "markdown",
   "metadata": {},
   "source": [
    "### VMD Main 中點  ubq_wb.psf 右鍵 →【`Load Data Into…..`   】\n",
    "###         →【`Browse...`】→選擇 `my_project_wb_eq.dcd`  (或著是   `你改的名字.dcd` \n",
    "\n",
    "### 　例如 在章節 C. 中的`my_project_eq.conf`檔案裡頭的 `set outputname`  \n",
    "### 　設定為  ` yoyo_wb_eq` 則檔名則為  `yoyo_wb_eq.dcd` )\n",
    "\n",
    "\n",
    "### →按 【`Load`】讀入軌跡　→　再按一次【`Browse...`】　→　選擇 `my_project_wb.psf`\n",
    "### →按 【`Load`】讀入 topology 檔案。\n",
    "\n",
    "### 在 VMD Main 視窗右下角有一個 播放的箭頭，按下去即可動態瀏覽分子軌跡。"
   ]
  },
  {
   "cell_type": "markdown",
   "metadata": {},
   "source": [
    "## 筆記區:"
   ]
  },
  {
   "cell_type": "markdown",
   "metadata": {},
   "source": [
    ":"
   ]
  },
  {
   "cell_type": "code",
   "execution_count": null,
   "metadata": {},
   "outputs": [],
   "source": [
    "1000000/250"
   ]
  },
  {
   "cell_type": "markdown",
   "metadata": {},
   "source": [
    "# C(補充). Your protein in a Water Box: Restarting Simulations\n",
    "## 1. 點VMD Main的【Extensions】→【Tk Console】→鍵入\n",
    "## 　cd ~/Desktop/NAMD_Tutorial_2021/My_Project_restart_dir/    \n",
    "## 2. 在 `JupyterLab` → 在左方視窗中移動路徑到 \n",
    "## Desktop/NAMD_Tutorial_2021/My_Project_restart_dir/ 中， \n",
    "## 打開檔案 `my_project_restart.conf` :　\n",
    "### 找到以下參數設定 :\n",
    "　　　 set outputname　　　　my_project_wb-restart-run\n",
    "    \n",
    "#### 　　　　　　　　　　　　　上面`my_project_wb-restart-run` 可以隨自己需求更改\n",
    "　\n",
    "    \n",
    "　　　 set inputname　　　　../My_Project_dir/my_project_wb_eq\n",
    "### 　　(重要)若有在章節 C. 中的　`set outputname ` 參數改其他名字的同學請將該名字替代 `my_project_wb_eq` 。\n",
    "### 　　　例如在章節 C. 中的`my_project_eq.conf`檔案裡頭的 `set outputname`  設定為  ` yoyo_wb_eq`  :\n",
    "　　　　　 　set outputname　　　　yoyo_wb_eq\n",
    "### 　　　則 `my_project_restart.conf`檔案裡頭要改成 :\n",
    "　　　　　 　set inputname　　　　../My_Project_dir/yoyo_wb_eq\n",
    "\n",
    "## 3. 開始使用分子動力學模擬程式 (NAMD) 進行 Restart 模擬\n",
    "### 在 `JupyterLab` 在左方視窗中點擊 \" `+` \" → 在右方 Launcher 介面中點 Other 區塊中的 `Terminal` →\n",
    "###  鍵入(可複製貼上) :\n",
    "\n",
    "    (Mac)\n",
    "    cd ~/Desktop/NAMD_Tutorial_2021/My_Project_restart_dir/ \n",
    "\n",
    "    (Windows)\n",
    "    cd ~\\Desktop\\NAMD_Tutorial_2021\\My_Project_restart_dir\\ \n",
    "###  再鍵入(可複製貼上) :\n",
    "\n",
    "    (Mac)\n",
    "    ~/Desktop/NAMD_Tutorial_2021/NAMD_mac/namd2 ./my_project_restart.conf > my_project_restart.log\n",
    "\n",
    "    (Windows)\n",
    "    ~\\Desktop\\NAMD_Tutorial_2021\\NAMD_exe\\namd2.exe .\\my_project_restart.conf > my_project_restart.log"
   ]
  },
  {
   "cell_type": "markdown",
   "metadata": {},
   "source": [
    "## 4. 確認檔案是否已輸出\n",
    "###  可以從桌面上點擊檔名為 `NAMD_Tutorial_2021` 的資料夾，並在裡頭的`My_Project_restart_dir` 中確認。"
   ]
  },
  {
   "cell_type": "markdown",
   "metadata": {},
   "source": [
    "## 5. 使用VMD觀察模擬軌跡\n",
    "### VMD Main 中點  ubq_wb.psf 右鍵 →【`Load Data Into…..`   \n",
    "###         】→【`Browse...`】→選擇 `my_project_wb-restart-run.dcd` →按 【`Load`】讀入軌跡\n",
    "#### 　　　>如果在章節 C(補充) 中的`my_project_restart.conf`檔案裡頭的 `set outputname`  設定為  \n",
    "#### 　　　> ` yoyo_restart` 則檔名則為  `yoyo_restart.dcd` )\n",
    "### →　再按一次【`Browse...`】　→　選擇 `my_project_wb.psf`\n",
    "### →按 【`Load`】讀入 topology 檔案。\n",
    "### 在 VMD Main 視窗右下角有一個 播放的箭頭，按下去即可動態瀏覽分子軌跡。"
   ]
  },
  {
   "cell_type": "markdown",
   "metadata": {},
   "source": [
    "## 筆記區:"
   ]
  },
  {
   "cell_type": "code",
   "execution_count": null,
   "metadata": {},
   "outputs": [],
   "source": []
  }
 ],
 "metadata": {
  "kernelspec": {
   "display_name": "Python 3 (ipykernel)",
   "language": "python",
   "name": "python3"
  },
  "language_info": {
   "codemirror_mode": {
    "name": "ipython",
    "version": 3
   },
   "file_extension": ".py",
   "mimetype": "text/x-python",
   "name": "python",
   "nbconvert_exporter": "python",
   "pygments_lexer": "ipython3",
   "version": "3.8.19"
  }
 },
 "nbformat": 4,
 "nbformat_minor": 4
}
