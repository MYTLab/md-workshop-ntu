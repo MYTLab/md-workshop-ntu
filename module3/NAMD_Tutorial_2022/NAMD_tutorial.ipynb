{
 "cells": [
  {
   "cell_type": "markdown",
   "metadata": {},
   "source": [
    "# NAMD tutorial\n",
    "- ## Created : 2020/10/03\n",
    "- ## Created by Yoyo, Jeff @MYTLab\n",
    "- ### Last update: 2024/8/24 by MYT\n",
    "\n",
    "MYT*Lab* website: https://mytsai.cc\n",
    "\n",
    "參考資料：\n",
    "- [NAMD tutorial ver.2017](https://www.ks.uiuc.edu/Training/Tutorials/namd-index.html)\n",
    "\n",
    "此教程僅供教學用途\n",
    "\n",
    "All rights reserved."
   ]
  },
  {
   "cell_type": "markdown",
   "metadata": {
    "jp-MarkdownHeadingCollapsed": true
   },
   "source": [
    "\n",
    "\n",
    "### 縮寫:\n",
    "### VMD TkCon   =  Tk Console"
   ]
  },
  {
   "cell_type": "markdown",
   "metadata": {},
   "source": [
    "# `(必讀) 解壓縮注意事項 : `\n",
    "##  >  課程下載  : 檔名為 : `NAMD_Tutorial_2022.zip`  的壓縮檔。\n",
    "##  >  點開壓縮檔( `NAMD_Tutorial_2022.zip` )將`NAMD_Tutorial_2022 ` 資料夾用滑鼠將其移至`桌面`上。\n",
    "##  0. 在桌面上點擊檔名為 `NAMD_Tutorial_2022` 的資料夾，並進入。\n",
    "##  1. 點擊 vmd 的安裝檔( `vmd193win32nocuda`) ，以程式預設的路徑直接安裝 VMD 即可。\n",
    "##  2.  分子動力學模擬程式( NAMD )的執行檔在資料夾中(`NAMD_Tutorial_2022`)的子資料夾(`NAMD_mac/NAMD_exe`)裡頭，'檔名為 `namd2` 之檔案。 \n"
   ]
  },
  {
   "cell_type": "markdown",
   "metadata": {},
   "source": [
    "  "
   ]
  },
  {
   "cell_type": "markdown",
   "metadata": {},
   "source": [
    "  "
   ]
  },
  {
   "cell_type": "markdown",
   "metadata": {},
   "source": [
    "  "
   ]
  },
  {
   "cell_type": "markdown",
   "metadata": {},
   "source": [
    "  "
   ]
  },
  {
   "cell_type": "markdown",
   "metadata": {},
   "source": [
    "# A. 生成.psf 檔\n",
    "## 0. 打開 VMD ( 預設路徑應為: C:\\Program Files (x86)\\University of Illinois\\VMD ; 若是使用Mac則應該是/Users/aa)\n",
    "## 1. 點VMD Main的【`Extensions`】→【`Tk Console`】→鍵入\n",
    "##  cd   ~/Desktop/NAMD_Tutorial_2022/Working_dir/\n",
    "## 2. 點VMD Main的【`file`】→【`New molecule`】→【`Browse...`】→選擇`1UBQ.pdb` \n",
    "## →Determine file type 選【`Automaticlally`】→【`Load`】\n",
    "## 在　`Tk Console`　視窗中\"逐行\"鍵入(可以用\"逐行\"複製的方式並貼上)：\n",
    "    set ubq [atomselect top protein]\n",
    "    $ubq writepdb ubqp.pdb\n",
    "##  →產生 ubqp.pdb\n",
    "## 3. 打開 `JupyterLab` → 在左方視窗中移動路徑到 `Desktop/NAMD_Tutorial_2022/Working_dir/` 中 → 在右方 Launcher 介面中點 Other 區塊中的 `Text File` 的選項，以開啟一個新的 txt 檔案。\n",
    "## → 在 `JupyterLab` 介面中的`untitled.txt`視窗中鍵入或(複製貼上下列指令) \n",
    "\n",
    "    package require psfgen\n",
    "    topology top_all27_prot_lipid.inp\n",
    "    pdbalias residue HIS HSE\n",
    "    pdbalias atom ILE CD1 CD\n",
    "    segment U {pdb ubqp.pdb}\n",
    "    coordpdb ubqp.pdb U\n",
    "    guesscoord\n",
    "    writepdb ubq.pdb\n",
    "    writepsf ubq.psf\n",
    "    \n",
    "##  →在左方視窗中以滑鼠\"右鍵\"點擊名為`untitled.txt` 的檔案，選擇 Rename 並改名為 `ubq.pgn`\n",
    "    \n",
    "## 4. 在　`Tk Console`　輸入(可以用複製的方式並貼上)：\n",
    "    source ubq.pgn\n",
    "    \n",
    "##  →如此會產生兩個新檔案：ubq.pdb, ubq.psf"
   ]
  },
  {
   "cell_type": "markdown",
   "metadata": {},
   "source": [
    "## 筆記區:"
   ]
  },
  {
   "cell_type": "markdown",
   "metadata": {},
   "source": [
    ":"
   ]
  },
  {
   "cell_type": "code",
   "execution_count": null,
   "metadata": {},
   "outputs": [],
   "source": []
  },
  {
   "cell_type": "markdown",
   "metadata": {},
   "source": [
    "# B. Solvating the Protein\n",
    "# protein in a water box\n",
    "## 1. 在　`Tk Console`　\"逐行\"鍵入(可以用\"逐行\"複製的方式並貼上)：\n",
    "    package  require  solvate\n",
    "    solvate  ubq.psf  ubq.pdb  -t 5 -o ubq_wb\n",
    "##  →此指令將蛋白質附近（> 5 angstrom）加入一堆水分子形成蛋白質水合模型（正立方水盒子），並產生兩個新檔案：\n",
    "##   ubq_wb.pdb, ubq_wb.psf\n",
    "## 2. VMD Main 中已自動新增一 PSF檔案名為 `ubq_wb.psf` 並讀進了一PDB結構檔案名為 `ubq_wb.pdb` 故 Frames 為 1\n",
    "## 3. 回到VMD　`Tk Console`　鍵入(同樣可以用“逐行”複製的方式並貼上)：\n",
    "## (注意 'ubq_wb.psf'前面是否有\"T\"字母)\n",
    "\n",
    "    set everyone [atomselect top all] \n",
    "    measure center $everyone\n",
    "    \n",
    "                                >>>>會得一些數值(`center_x` `center_y` `center_z`) \n",
    "                                \n",
    "    measure minmax $everyone\n",
    "\n",
    "                                >>>>會得一些數值{`min_x` `min_y` `min_z`} {`max_x` `max_y` `max_z`}\n",
    "                                \n",
    "##  →上面的指令分別計算整個盒子的 x,y,z “中心” 以及 “大小”"
   ]
  },
  {
   "cell_type": "markdown",
   "metadata": {},
   "source": [
    "## 筆記區:"
   ]
  },
  {
   "cell_type": "markdown",
   "metadata": {},
   "source": [
    ":"
   ]
  },
  {
   "cell_type": "code",
   "execution_count": null,
   "metadata": {},
   "outputs": [],
   "source": []
  },
  {
   "cell_type": "markdown",
   "metadata": {},
   "source": [
    "# C. Ubiquitin in a Water Box: Simulation with Periodic Boundary Conditions　\n",
    "## 1. 在 `JupyterLab` 在左方視窗中以滑鼠打開名為: `ubq_wb_eq.conf` 的檔案\n",
    "        檢查以下參數 (最開頭):\n",
    "      \n",
    "        structure          ubq_wb.psf      (注意路徑)\n",
    "        coordinates        ubq_wb.pdb      (注意路徑)\n",
    "\n",
    "        set outputname     ubq_wb_eq\n",
    "\n",
    "        >根據剛剛在 B. 3 章節中，得到的{min_x min_y min_z} {max_x max_y max_z}\n",
    "        \n",
    "        >計算 max_x - min_x 得 length_x\n",
    "             max_y - min_y 得 length_y\n",
    "             max_z - min_z 得 length_z\n",
    "\n",
    "        >將 {length_x length_y length_z} 以及 {center_x center_y center_z} 的值取小數點至後一位，分別填入以下位置\n",
    "        (已填好，只需檢查是否與預設的值一樣即可)\n",
    "        \n",
    "        \n",
    "        cellBasisVector1\tlength_x         0.0\t    0.0\n",
    "        cellBasisVector2         0.0    length_y        0.0\n",
    "        cellBasisVector3\t     0.0         0.0   length_z\n",
    "             cellOrigin     center_x    center_y   center_z\n"
   ]
  },
  {
   "cell_type": "markdown",
   "metadata": {},
   "source": [
    "## 2. 開始使用分子動力學模擬程式 (NAMD)\n",
    "### 在 `JupyterLab` 在左方視窗中點擊 \" `+` \" → 在右方 Launcher 介面中點 Other 區塊中的 `Terminal` →\n",
    "###  鍵入(可複製貼上) :\n",
    "    (Mac)\n",
    "    cd ~/Desktop/NAMD_Tutorial_2022/Working_dir/\n",
    "    \n",
    "    (Windows)\n",
    "    cd ~\\Desktop\\NAMD_Tutorial_2022\\Working_dir\\ \n",
    "###  再鍵入(可複製貼上) :\n",
    "    (Mac)\n",
    "    ~/Desktop/NAMD_Tutorial_2022/NAMD_mac/namd2 ./ubq_wb_eq.conf > ubq_wb_eq.log\n",
    "    \n",
    "    (Windows)\n",
    "    ~\\Desktop\\NAMD_Tutorial_2022\\NAMD_exe\\namd2 .\\ubq_wb_eq.conf > ubq_wb_eq.log\n",
    "\n",
    "# 備註:   \n",
    "##  在以上練習中，若想直接看正確結果，可先至資料夾`NAMD_Tutorial`中的子資料夾 `Runed`中找到相對應的輸出檔案。"
   ]
  },
  {
   "cell_type": "markdown",
   "metadata": {},
   "source": [
    "## 3. 確認檔案是否已輸出\n",
    "###  可以從桌面上點擊檔名為 `NAMD_Tutorial` 的資料夾，並在裡頭的`Working_dir` 中確認。"
   ]
  },
  {
   "cell_type": "markdown",
   "metadata": {},
   "source": [
    "## 4. 使用VMD觀察模擬軌跡"
   ]
  },
  {
   "cell_type": "markdown",
   "metadata": {},
   "source": [
    "### VMD Main 中點  ubq_wb.psf 右鍵 →【`Load Data Into…..`   \n",
    "###         】→【`Browse...`】→選擇 `ubq_wb_eq.dcd` →按 【`Load`】讀入軌跡\n",
    "### →　再按一次【`Browse...`】　→　選擇 `ubq_wb.psf`\n",
    "### →按 【`Load`】讀入 topology 檔案。\n",
    "\n",
    "### 在 VMD Main 視窗右下角有一個 播放的箭頭，按下去即可動態瀏覽分子軌跡。"
   ]
  },
  {
   "cell_type": "markdown",
   "metadata": {},
   "source": [
    "## 筆記區:"
   ]
  },
  {
   "cell_type": "markdown",
   "metadata": {},
   "source": [
    ":"
   ]
  },
  {
   "cell_type": "code",
   "execution_count": null,
   "metadata": {},
   "outputs": [],
   "source": []
  }
 ],
 "metadata": {
  "kernelspec": {
   "display_name": "Python 3 (ipykernel)",
   "language": "python",
   "name": "python3"
  },
  "language_info": {
   "codemirror_mode": {
    "name": "ipython",
    "version": 3
   },
   "file_extension": ".py",
   "mimetype": "text/x-python",
   "name": "python",
   "nbconvert_exporter": "python",
   "pygments_lexer": "ipython3",
   "version": "3.8.19"
  }
 },
 "nbformat": 4,
 "nbformat_minor": 4
}
