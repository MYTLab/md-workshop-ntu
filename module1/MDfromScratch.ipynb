{
 "cells": [
  {
   "cell_type": "markdown",
   "id": "232b11b2",
   "metadata": {},
   "source": [
    "# 讓粒子動起來!\n",
    "1. 初始化 (準備粒子的起始位置、初速度)\n",
    "2. 更新 (粒子運動的演算法)\n",
    "3. 執行 (反覆迭代產生軌跡)\n",
    "\n",
    "參考資料\n",
    "[PolymerTheory](https://youtube.com/@polymertheory?si=86byl9CvauC-Ttx)"
   ]
  },
  {
   "cell_type": "markdown",
   "id": "1e0724e3",
   "metadata": {},
   "source": [
    "## Basic version"
   ]
  },
  {
   "cell_type": "markdown",
   "id": "af7d09ea",
   "metadata": {},
   "source": [
    "### 1. 初始化"
   ]
  },
  {
   "cell_type": "code",
   "execution_count": null,
   "id": "5ef5da0c",
   "metadata": {},
   "outputs": [],
   "source": [
    "#import numerical library (匯入函式庫) \n",
    "import numpy as np"
   ]
  },
  {
   "cell_type": "code",
   "execution_count": null,
   "id": "4a7a6066",
   "metadata": {},
   "outputs": [],
   "source": [
    "#parameters\n",
    "n = 10 # number of particles (粒子的數量)\n",
    "D = 3 # dimensions (維度)\n",
    "dt = 0.01 # time interval (時間的間隔)\n",
    "t_steps = 100 # time steps (時間步數)\n",
    "#arrays of variables\n",
    "r = 100*np.random.rand(n,D) # initialize random positions for n particles in D dimensions\n",
    "v = 100*(np.random.rand(n,D)-0.5) # initialize random velocities for n particles in D dimensions"
   ]
  },
  {
   "cell_type": "code",
   "execution_count": null,
   "id": "b5712371",
   "metadata": {},
   "outputs": [],
   "source": [
    "r"
   ]
  },
  {
   "cell_type": "code",
   "execution_count": null,
   "id": "8c3da878",
   "metadata": {},
   "outputs": [],
   "source": [
    "r[4]"
   ]
  },
  {
   "cell_type": "code",
   "execution_count": null,
   "id": "0645a029",
   "metadata": {},
   "outputs": [],
   "source": [
    "r[0][2]"
   ]
  },
  {
   "cell_type": "code",
   "execution_count": null,
   "id": "dd4f849e",
   "metadata": {},
   "outputs": [],
   "source": [
    "v"
   ]
  },
  {
   "cell_type": "markdown",
   "id": "6b98d49d",
   "metadata": {},
   "source": [
    "### 2. 更新"
   ]
  },
  {
   "cell_type": "code",
   "execution_count": null,
   "id": "24e968a5",
   "metadata": {},
   "outputs": [],
   "source": [
    "#update subroutine (更新內容-子程序)\n",
    "def update(r,v,dt):\n",
    "    r_new = r+v*dt\n",
    "    return r_new"
   ]
  },
  {
   "cell_type": "markdown",
   "id": "67dcf43c",
   "metadata": {},
   "source": [
    "### 3. 執行"
   ]
  },
  {
   "cell_type": "code",
   "execution_count": null,
   "id": "f407cadd",
   "metadata": {},
   "outputs": [],
   "source": [
    "#run (執行)\n",
    "for i in range(t_steps):\n",
    "    r_out = update(r,v,dt)\n",
    "    r = r_out\n",
    "    print(i)\n",
    "    print(r_out)\n"
   ]
  },
  {
   "cell_type": "code",
   "execution_count": null,
   "id": "fa38aa73",
   "metadata": {},
   "outputs": [],
   "source": []
  }
 ],
 "metadata": {
  "kernelspec": {
   "display_name": "Python 3",
   "language": "python",
   "name": "python3"
  },
  "language_info": {
   "codemirror_mode": {
    "name": "ipython",
    "version": 3
   },
   "file_extension": ".py",
   "mimetype": "text/x-python",
   "name": "python",
   "nbconvert_exporter": "python",
   "pygments_lexer": "ipython3",
   "version": "3.7.3"
  }
 },
 "nbformat": 4,
 "nbformat_minor": 5
}
