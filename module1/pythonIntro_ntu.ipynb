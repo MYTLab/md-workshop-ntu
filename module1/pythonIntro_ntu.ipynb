{
 "cells": [
  {
   "cell_type": "markdown",
   "metadata": {
    "id": "NhvZCMpDPzV3"
   },
   "source": [
    "# Python basics\n",
    "This Notebook is used to introduce python basics, including **Basic Math**, **Data Type**, **Function**, **Array**, and **Plotting**\n",
    "此份Notebook介紹基本的python指令與使用，包含【基本運算】、【資料型態】、【函式】、【陣列】與【繪圖】。\n",
    "---\n",
    "Created by Min-Yeh Tsai (**MYTLab**)\n",
    "\n",
    "Nov 23, 2022 updated (MYT)\n",
    "\n",
    "\n",
    "參考資料\n",
    "* [J.R. Johansson, Intro to Python Programming](https://nbviewer.jupyter.org/github/jrjohansson/scientific-python-lectures/blob/master/Lecture-1-Introduction-to-Python-Programming.ipynb)\n",
    "* [J.R. Johansson, Numpy](https://github.com/jrjohansson/scientific-python-lectures/blob/master/Lecture-2-Numpy.ipynb)\n",
    "\n",
    "此文件僅供教學使用\n",
    "\n",
    "All rights reserved."
   ]
  },
  {
   "cell_type": "markdown",
   "metadata": {
    "id": "8GLI1eFsPzV6"
   },
   "source": [
    "## The python world (初探python的世界)"
   ]
  },
  {
   "cell_type": "code",
   "execution_count": null,
   "metadata": {
    "colab": {
     "base_uri": "https://localhost:8080/"
    },
    "id": "SpnpaD_JPzV7",
    "outputId": "ef34eba2-6f93-4e04-d14b-0cfc11292a32"
   },
   "outputs": [],
   "source": [
    "print(\"hello world!\") #印出字串 \"hello world!\""
   ]
  },
  {
   "cell_type": "code",
   "execution_count": null,
   "metadata": {
    "id": "WS_YYXBgPzV8"
   },
   "outputs": [],
   "source": [
    "\"test\" #字串以 \"\" 包覆表示"
   ]
  },
  {
   "cell_type": "code",
   "execution_count": null,
   "metadata": {
    "id": "9jOMvWOnwdB6"
   },
   "outputs": [],
   "source": [
    "seq_1=\"hello \" #宣告一變數 seq_1 指派成為一字串 \"hello\""
   ]
  },
  {
   "cell_type": "code",
   "execution_count": null,
   "metadata": {
    "colab": {
     "base_uri": "https://localhost:8080/"
    },
    "id": "aP_nXMQqwp-q",
    "outputId": "3bea1a79-9a46-486f-8fbd-ca62a7f9515f"
   },
   "outputs": [],
   "source": [
    "print(seq_1) #直接呼叫 print 函式列印出變數 seq_1 的內容"
   ]
  },
  {
   "cell_type": "code",
   "execution_count": null,
   "metadata": {
    "id": "l4bO_FJ9xDYs"
   },
   "outputs": [],
   "source": [
    "seq_2=\"John!\" #宣告一變數 seq_2 指派成為一姓名字串 \"John\""
   ]
  },
  {
   "cell_type": "code",
   "execution_count": null,
   "metadata": {
    "colab": {
     "base_uri": "https://localhost:8080/"
    },
    "id": "_-U3LwRux_xG",
    "outputId": "fdbbfcab-d104-4edf-8a6c-77d1a0e92524"
   },
   "outputs": [],
   "source": [
    "print(seq_1 + seq_2) #\"+\"可將兩個字串結合再一起"
   ]
  },
  {
   "cell_type": "code",
   "execution_count": null,
   "metadata": {
    "colab": {
     "base_uri": "https://localhost:8080/"
    },
    "id": "aTWWoDAZyuQG",
    "outputId": "2180d824-1d8f-4a86-f95d-287882c390b8"
   },
   "outputs": [],
   "source": [
    "#試試看如何列印出 \"hello 你的名字!\"  注意中間有空白鍵，而且最後有個驚嘆號喔!\n",
    "#例如：hello John!\n",
    "\n",
    "print(seq_1 + \" \" + seq_2 +\"!\")"
   ]
  },
  {
   "cell_type": "code",
   "execution_count": null,
   "metadata": {
    "id": "j5XeJJkmy-xF"
   },
   "outputs": [],
   "source": []
  },
  {
   "cell_type": "markdown",
   "metadata": {
    "id": "Xz6XRKAVPzV8"
   },
   "source": [
    "## Basic math (基本運算)"
   ]
  },
  {
   "cell_type": "code",
   "execution_count": null,
   "metadata": {
    "colab": {
     "base_uri": "https://localhost:8080/"
    },
    "id": "MoVLoU3hPzV9",
    "outputId": "a979386a-6e0a-4da9-ec66-a2b24de31bc3"
   },
   "outputs": [],
   "source": [
    "#直接運算\n",
    "1 + 1"
   ]
  },
  {
   "cell_type": "code",
   "execution_count": null,
   "metadata": {
    "colab": {
     "base_uri": "https://localhost:8080/"
    },
    "id": "RoeNQuV0PzV9",
    "outputId": "2e267c2d-05f6-4005-9257-81b17ae63509"
   },
   "outputs": [],
   "source": [
    "8 - 6"
   ]
  },
  {
   "cell_type": "code",
   "execution_count": null,
   "metadata": {
    "colab": {
     "base_uri": "https://localhost:8080/"
    },
    "id": "6J1P5jCnPzV9",
    "outputId": "c86bd116-3214-42fa-e777-cab05ccd640c"
   },
   "outputs": [],
   "source": [
    "7 * 4"
   ]
  },
  {
   "cell_type": "code",
   "execution_count": null,
   "metadata": {
    "id": "DQphi9EnPzV-"
   },
   "outputs": [],
   "source": [
    "7.0 * 4"
   ]
  },
  {
   "cell_type": "code",
   "execution_count": null,
   "metadata": {
    "colab": {
     "base_uri": "https://localhost:8080/"
    },
    "id": "Ept48BoRPzV-",
    "outputId": "102d2d25-0233-4192-f532-30c4a0e1e6dc"
   },
   "outputs": [],
   "source": [
    "24 / 3"
   ]
  },
  {
   "cell_type": "code",
   "execution_count": null,
   "metadata": {
    "colab": {
     "base_uri": "https://localhost:8080/"
    },
    "id": "cEh1E0ADPzV-",
    "outputId": "0b01bc43-7274-4c36-9e02-c470c8fa4bd5"
   },
   "outputs": [],
   "source": [
    "24.0 / 3"
   ]
  },
  {
   "cell_type": "code",
   "execution_count": null,
   "metadata": {
    "colab": {
     "base_uri": "https://localhost:8080/"
    },
    "id": "5OWBuuEHPzV_",
    "outputId": "55869d12-d922-487c-8a3b-f0c54e95075a"
   },
   "outputs": [],
   "source": [
    "24 / 5"
   ]
  },
  {
   "cell_type": "code",
   "execution_count": null,
   "metadata": {
    "id": "oxaKT8Q7PzV_"
   },
   "outputs": [],
   "source": [
    "#使用變數來運算\n",
    "x = 5\n",
    "y = 10"
   ]
  },
  {
   "cell_type": "code",
   "execution_count": null,
   "metadata": {
    "colab": {
     "base_uri": "https://localhost:8080/"
    },
    "id": "uJOZhqXgPzV_",
    "outputId": "b7864cb6-f9e7-4631-954a-6f998b2a1d0b"
   },
   "outputs": [],
   "source": [
    "x + y"
   ]
  },
  {
   "cell_type": "code",
   "execution_count": null,
   "metadata": {
    "colab": {
     "base_uri": "https://localhost:8080/"
    },
    "id": "CXXQJOhHPzV_",
    "outputId": "662dea88-c772-4696-d31b-98d8515e5ecb"
   },
   "outputs": [],
   "source": [
    "x - y"
   ]
  },
  {
   "cell_type": "code",
   "execution_count": null,
   "metadata": {
    "colab": {
     "base_uri": "https://localhost:8080/"
    },
    "id": "Wu1ddiLGPzWA",
    "outputId": "85d6a1da-8734-489f-b905-385d1aebabd5"
   },
   "outputs": [],
   "source": [
    "#兩數相除的商(取整數)\n",
    "5.0 // 2"
   ]
  },
  {
   "cell_type": "code",
   "execution_count": null,
   "metadata": {
    "colab": {
     "base_uri": "https://localhost:8080/"
    },
    "id": "O2UPO4cQPzWA",
    "outputId": "74cef3c4-f9ef-4beb-be6d-520519fa41fe"
   },
   "outputs": [],
   "source": [
    "#兩數相除的餘數(能整除的餘數)\n",
    "5 % 2"
   ]
  },
  {
   "cell_type": "code",
   "execution_count": null,
   "metadata": {
    "id": "jFMg1Fx7PzWA"
   },
   "outputs": [],
   "source": [
    "5.2 % 2 #(5 -> 5.2 浮點)"
   ]
  },
  {
   "cell_type": "code",
   "execution_count": null,
   "metadata": {
    "colab": {
     "base_uri": "https://localhost:8080/"
    },
    "id": "YF4mwUdiPzWA",
    "outputId": "f7b4c90e-7c93-4296-c995-0e50ca0915e6"
   },
   "outputs": [],
   "source": [
    "#次方\n",
    "5 ** 3"
   ]
  },
  {
   "cell_type": "code",
   "execution_count": null,
   "metadata": {
    "id": "Gzy5_5njPzWB"
   },
   "outputs": [],
   "source": [
    "#使用變數做運算"
   ]
  },
  {
   "cell_type": "code",
   "execution_count": null,
   "metadata": {
    "id": "-ZMfv0O0PzWB"
   },
   "outputs": [],
   "source": [
    "z1 = 2\n",
    "z2 = 3\n",
    "z3 = 4"
   ]
  },
  {
   "cell_type": "code",
   "execution_count": null,
   "metadata": {
    "colab": {
     "base_uri": "https://localhost:8080/"
    },
    "id": "sVPcHF6kQoTb",
    "outputId": "72be0392-9f06-47b4-edce-10851de5dbd5"
   },
   "outputs": [],
   "source": [
    "z1 ** z2"
   ]
  },
  {
   "cell_type": "code",
   "execution_count": null,
   "metadata": {
    "colab": {
     "base_uri": "https://localhost:8080/"
    },
    "id": "CJlrksE7Qwzz",
    "outputId": "cc766b3c-d0d5-4b6a-d81d-9d16e9b899c2"
   },
   "outputs": [],
   "source": [
    "(z1 ** z2)*z3"
   ]
  },
  {
   "cell_type": "code",
   "execution_count": null,
   "metadata": {
    "colab": {
     "base_uri": "https://localhost:8080/"
    },
    "id": "ZZJ_M-3APzWB",
    "outputId": "a773fd2e-22c0-49c7-df8e-5110ebb98bcd"
   },
   "outputs": [],
   "source": [
    "#產生亂數\n",
    "import random\n",
    "random.randint(0,99) # 隨機產生 0 ~ 99 中的整數"
   ]
  },
  {
   "cell_type": "code",
   "execution_count": null,
   "metadata": {
    "colab": {
     "base_uri": "https://localhost:8080/"
    },
    "id": "ZTqldqxZVgtk",
    "outputId": "7066e0e9-5d84-4a59-d8be-3d7305f34d9a"
   },
   "outputs": [],
   "source": [
    "random.randint(0,50)"
   ]
  },
  {
   "cell_type": "code",
   "execution_count": null,
   "metadata": {
    "id": "LetqPllFVe9s"
   },
   "outputs": [],
   "source": []
  },
  {
   "cell_type": "code",
   "execution_count": null,
   "metadata": {
    "id": "X28jUmzXVXms"
   },
   "outputs": [],
   "source": []
  },
  {
   "cell_type": "code",
   "execution_count": null,
   "metadata": {
    "id": "TcJRPWbSVZ7F"
   },
   "outputs": [],
   "source": []
  },
  {
   "cell_type": "code",
   "execution_count": null,
   "metadata": {
    "colab": {
     "base_uri": "https://localhost:8080/"
    },
    "id": "81_Yhlo6EWie",
    "outputId": "1435c50b-e162-4560-ec6b-4f6ad63d4b79"
   },
   "outputs": [],
   "source": [
    "random.gauss(1,0.1)"
   ]
  },
  {
   "cell_type": "code",
   "execution_count": null,
   "metadata": {
    "colab": {
     "base_uri": "https://localhost:8080/"
    },
    "id": "93o27ixfPzWB",
    "outputId": "7f63be4e-3009-4ade-a01e-1fe040d88567"
   },
   "outputs": [],
   "source": [
    "random.randint(0,99)"
   ]
  },
  {
   "cell_type": "code",
   "execution_count": null,
   "metadata": {
    "colab": {
     "base_uri": "https://localhost:8080/"
    },
    "id": "OGbF6kk9PzWC",
    "outputId": "5c8c34d3-6219-428b-8789-990968a7bb3c"
   },
   "outputs": [],
   "source": [
    "#隨機產生 0 ~ 200 中 4 的倍數\n",
    "random.randrange(0,200,4)"
   ]
  },
  {
   "cell_type": "code",
   "execution_count": null,
   "metadata": {
    "colab": {
     "base_uri": "https://localhost:8080/"
    },
    "id": "24khTwhzPzWC",
    "outputId": "87ff6849-329e-40b2-f7fd-ca11e6c5aa25"
   },
   "outputs": [],
   "source": [
    "random.randrange(0,200,4)"
   ]
  },
  {
   "cell_type": "code",
   "execution_count": null,
   "metadata": {
    "colab": {
     "base_uri": "https://localhost:8080/"
    },
    "id": "GgfxiuKaPzWC",
    "outputId": "5810f02c-8032-49e3-cd5a-39f14d1d225b"
   },
   "outputs": [],
   "source": [
    "#隨機產生介於 0 ~ 1 之間的值\n",
    "random.random()"
   ]
  },
  {
   "cell_type": "code",
   "execution_count": null,
   "metadata": {
    "id": "4G1bb7VMPzWC"
   },
   "outputs": [],
   "source": [
    "random.random()"
   ]
  },
  {
   "cell_type": "code",
   "execution_count": null,
   "metadata": {
    "colab": {
     "base_uri": "https://localhost:8080/"
    },
    "id": "MEFpuCZGPzWD",
    "outputId": "feecb5bf-b693-44d6-b57e-72fff4e1cad6"
   },
   "outputs": [],
   "source": [
    "#四捨五入\n",
    "round(6.4564)"
   ]
  },
  {
   "cell_type": "code",
   "execution_count": null,
   "metadata": {
    "colab": {
     "base_uri": "https://localhost:8080/"
    },
    "id": "64bdQdgXPzWD",
    "outputId": "b5a08e7c-785f-49b5-d73f-bf3aa66c1f12"
   },
   "outputs": [],
   "source": [
    "round(6.4564,1)"
   ]
  },
  {
   "cell_type": "code",
   "execution_count": null,
   "metadata": {
    "colab": {
     "base_uri": "https://localhost:8080/"
    },
    "id": "uHIXPrBRPzWD",
    "outputId": "3f6187b3-eb30-4675-b019-391bcd6b1899"
   },
   "outputs": [],
   "source": [
    "round(6.4564,2)"
   ]
  },
  {
   "cell_type": "code",
   "execution_count": null,
   "metadata": {
    "colab": {
     "base_uri": "https://localhost:8080/"
    },
    "id": "ZUBj5f6wPzWD",
    "outputId": "9abce6c0-f5f6-4e93-b918-2de3bff5fd21"
   },
   "outputs": [],
   "source": [
    "round(6.4564,3)"
   ]
  },
  {
   "cell_type": "code",
   "execution_count": null,
   "metadata": {
    "id": "bsBpUirqPzWE"
   },
   "outputs": [],
   "source": [
    "round(1.5)"
   ]
  },
  {
   "cell_type": "code",
   "execution_count": null,
   "metadata": {
    "id": "tnExunQoPzWE"
   },
   "outputs": [],
   "source": [
    "round(2.5)"
   ]
  },
  {
   "cell_type": "code",
   "execution_count": null,
   "metadata": {
    "colab": {
     "base_uri": "https://localhost:8080/"
    },
    "id": "HDHxMkuXPzWE",
    "outputId": "a3338b13-18e8-4430-fb33-fbdeaf63aafa"
   },
   "outputs": [],
   "source": [
    "round(4/3)"
   ]
  },
  {
   "cell_type": "code",
   "execution_count": null,
   "metadata": {
    "colab": {
     "base_uri": "https://localhost:8080/"
    },
    "id": "Eyopam43PzWE",
    "outputId": "10a6024e-9ec9-418d-afea-61969c7b130d"
   },
   "outputs": [],
   "source": [
    "#轉換數值型態\n",
    "int(4.2)"
   ]
  },
  {
   "cell_type": "code",
   "execution_count": null,
   "metadata": {
    "colab": {
     "base_uri": "https://localhost:8080/"
    },
    "id": "KQjLk6SBPzWE",
    "outputId": "7117e0b0-bb0a-4dd8-c85c-12a16e12e471"
   },
   "outputs": [],
   "source": [
    "int(8.6)"
   ]
  },
  {
   "cell_type": "code",
   "execution_count": null,
   "metadata": {
    "colab": {
     "base_uri": "https://localhost:8080/"
    },
    "id": "3Kvx9aBtPzWF",
    "outputId": "6ee0324b-595f-4bd3-a940-ea6d8639d7a6"
   },
   "outputs": [],
   "source": [
    "float(4)"
   ]
  },
  {
   "cell_type": "code",
   "execution_count": null,
   "metadata": {
    "colab": {
     "base_uri": "https://localhost:8080/"
    },
    "id": "2LV_t-uUPzWF",
    "outputId": "7f11ab3c-d9af-4161-fc96-5ffd595a1589"
   },
   "outputs": [],
   "source": [
    "float(4.7)"
   ]
  },
  {
   "cell_type": "code",
   "execution_count": null,
   "metadata": {
    "colab": {
     "base_uri": "https://localhost:8080/"
    },
    "id": "ZIqMUv2jPzWF",
    "outputId": "541fdc19-2406-4d62-8ead-fb0f8d664d0c"
   },
   "outputs": [],
   "source": [
    "float(\"6\")"
   ]
  },
  {
   "cell_type": "code",
   "execution_count": null,
   "metadata": {
    "colab": {
     "base_uri": "https://localhost:8080/"
    },
    "id": "GGs3a05WSfyR",
    "outputId": "6f03ecab-6bb5-4c6f-d5b7-b1594954915d"
   },
   "outputs": [],
   "source": [
    "#查詢內建的函式\n",
    "dir(__builtin__)"
   ]
  },
  {
   "cell_type": "code",
   "execution_count": null,
   "metadata": {
    "id": "cFePUKHB2kAp"
   },
   "outputs": [],
   "source": []
  },
  {
   "cell_type": "markdown",
   "metadata": {
    "id": "7PESKkkI2lev"
   },
   "source": []
  },
  {
   "cell_type": "markdown",
   "metadata": {
    "id": "OW7JcyZ-2qK1"
   },
   "source": [
    "## Data type (資料型態)"
   ]
  },
  {
   "cell_type": "markdown",
   "metadata": {
    "id": "xm5HXykU4U6U"
   },
   "source": [
    "串列 (List)\n"
   ]
  },
  {
   "cell_type": "code",
   "execution_count": null,
   "metadata": {
    "colab": {
     "base_uri": "https://localhost:8080/"
    },
    "id": "oFdCFy5-4YfB",
    "outputId": "59798f71-4d58-4da4-f538-ee0ad30284f9"
   },
   "outputs": [],
   "source": [
    "list_1 = [1, 2, 3, 4]\n",
    "type(list_1)"
   ]
  },
  {
   "cell_type": "code",
   "execution_count": null,
   "metadata": {
    "colab": {
     "base_uri": "https://localhost:8080/"
    },
    "id": "D2jJY0bp4psC",
    "outputId": "14f7e45f-99d0-4cea-e8fe-9b3f710364d4"
   },
   "outputs": [],
   "source": [
    "list_2 = [1, \"test2\", 3, \"test4\"]\n",
    "list_2"
   ]
  },
  {
   "cell_type": "code",
   "execution_count": null,
   "metadata": {
    "colab": {
     "base_uri": "https://localhost:8080/"
    },
    "id": "rFHTT8Tqb61C",
    "outputId": "64386e6b-ad55-48e3-a8fd-d23a357fd545"
   },
   "outputs": [],
   "source": [
    "list_1[3]"
   ]
  },
  {
   "cell_type": "code",
   "execution_count": null,
   "metadata": {
    "colab": {
     "base_uri": "https://localhost:8080/"
    },
    "id": "W22U3qET48QA",
    "outputId": "b5a14385-4b75-4f1c-f5bf-cac7c169482a"
   },
   "outputs": [],
   "source": [
    "type(list_1[0])"
   ]
  },
  {
   "cell_type": "code",
   "execution_count": null,
   "metadata": {
    "colab": {
     "base_uri": "https://localhost:8080/"
    },
    "id": "EsLL_zxx5MdI",
    "outputId": "365b847b-b5b0-4503-fc98-aeba796dbd91"
   },
   "outputs": [],
   "source": [
    "type(list_2[1])"
   ]
  },
  {
   "cell_type": "code",
   "execution_count": null,
   "metadata": {
    "colab": {
     "base_uri": "https://localhost:8080/"
    },
    "id": "h7LCijKkYjj-",
    "outputId": "c5e7ecab-af6d-4814-d5a9-0e9092732d39"
   },
   "outputs": [],
   "source": [
    "list_2[2]"
   ]
  },
  {
   "cell_type": "code",
   "execution_count": null,
   "metadata": {
    "colab": {
     "base_uri": "https://localhost:8080/",
     "height": 35
    },
    "id": "kp9NUOZm5rmv",
    "outputId": "71ef85b2-f616-4a51-ff98-c5494df168a3"
   },
   "outputs": [],
   "source": [
    "list_2[-1]"
   ]
  },
  {
   "cell_type": "markdown",
   "metadata": {
    "id": "Qv8bO6IJtHWk"
   },
   "source": [
    "字典（dict）"
   ]
  },
  {
   "cell_type": "markdown",
   "metadata": {
    "id": "ZYXdBWeC2x-9"
   },
   "source": [
    "字典與串列很類似，只是每個元素為一對 **鍵:值**，其語法為`{key1 : value1, ...}`"
   ]
  },
  {
   "cell_type": "markdown",
   "metadata": {
    "id": "rUK0XOflsGVc"
   },
   "source": [
    "Ex.1"
   ]
  },
  {
   "cell_type": "code",
   "execution_count": null,
   "metadata": {
    "colab": {
     "base_uri": "https://localhost:8080/"
    },
    "id": "vUuRl4mQ24Xx",
    "outputId": "99fe3fc5-bc65-4710-f22a-e4e8de0dba5d"
   },
   "outputs": [],
   "source": [
    "params = {\"parameter1\" : 10.0,\n",
    "      \"parameter2\" : 20.0,\n",
    "      \"parameter3\" : 30.0,}\n",
    "\n",
    "print(type(params))\n",
    "print(params)"
   ]
  },
  {
   "cell_type": "code",
   "execution_count": null,
   "metadata": {
    "colab": {
     "base_uri": "https://localhost:8080/"
    },
    "id": "X4ewuWS_ZNLW",
    "outputId": "f63a9190-d1fd-4f2a-a83d-b2c6078ff42a"
   },
   "outputs": [],
   "source": [
    "params[\"parameter1\"]"
   ]
  },
  {
   "cell_type": "code",
   "execution_count": null,
   "metadata": {
    "colab": {
     "base_uri": "https://localhost:8080/"
    },
    "id": "pJKcZ9Z8osgZ",
    "outputId": "0fc79fbc-03c6-4ae7-df0f-3d4f592742f6"
   },
   "outputs": [],
   "source": [
    "print(\"parameter1 = \" + str(params[\"parameter1\"]))\n",
    "print(\"parameter2 = \" + str(params[\"parameter2\"]))\n",
    "print(\"parameter3 = \" + str(params[\"parameter3\"]))"
   ]
  },
  {
   "cell_type": "code",
   "execution_count": null,
   "metadata": {
    "colab": {
     "base_uri": "https://localhost:8080/"
    },
    "id": "D_5lZK5kougE",
    "outputId": "f970fb3e-e367-4f8a-fe7d-106123cc39b3"
   },
   "outputs": [],
   "source": [
    "params[\"parameter1\"] = \"alpha\"\n",
    "params[\"parameter2\"] = \"beta\"\n",
    "\n",
    "# add a new entry\n",
    "params[\"parameter4\"] = \"delta\"\n",
    "\n",
    "print(\"parameter1 = \" + str(params[\"parameter1\"]))\n",
    "print(\"parameter2 = \" + str(params[\"parameter2\"]))\n",
    "print(\"parameter3 = \" + str(params[\"parameter3\"]))\n",
    "print(\"parameter4 = \" + str(params[\"parameter4\"]))"
   ]
  },
  {
   "cell_type": "markdown",
   "metadata": {
    "id": "k4FboSoIr_O6"
   },
   "source": [
    "Ex.2"
   ]
  },
  {
   "cell_type": "code",
   "execution_count": null,
   "metadata": {
    "colab": {
     "base_uri": "https://localhost:8080/"
    },
    "id": "D1m6SDhdpqoE",
    "outputId": "78f8fa55-535d-46f4-ad8a-c637db4c1eb9"
   },
   "outputs": [],
   "source": [
    "alpha = 10.0\n",
    "beta = 20.0\n",
    "gamma = 30.0\n",
    "\n",
    "params2 = {\"parameter1\" : alpha,\n",
    "       \"parameter2\" : beta,\n",
    "       \"parameter3\" : gamma,}\n",
    "\n",
    "params2[\"parameter3\"]\n"
   ]
  },
  {
   "cell_type": "code",
   "execution_count": null,
   "metadata": {
    "colab": {
     "base_uri": "https://localhost:8080/"
    },
    "id": "PrCYWGPCHfUT",
    "outputId": "41037136-a554-49e4-baa1-f9aadcf53982"
   },
   "outputs": [],
   "source": [
    "params2[\"parameter2\"]"
   ]
  },
  {
   "cell_type": "markdown",
   "metadata": {
    "id": "qfpbl8q9SjME"
   },
   "source": [
    "## Function (數學函式)"
   ]
  },
  {
   "cell_type": "code",
   "execution_count": null,
   "metadata": {
    "colab": {
     "base_uri": "https://localhost:8080/"
    },
    "id": "eraWldinPzWF",
    "outputId": "d980de2a-7add-45b7-fe4e-3db3990c8df3"
   },
   "outputs": [],
   "source": [
    "###### 小於等於最大整數\n",
    "import math\n",
    "math.floor(4.56778)"
   ]
  },
  {
   "cell_type": "code",
   "execution_count": null,
   "metadata": {
    "colab": {
     "base_uri": "https://localhost:8080/"
    },
    "id": "0a5qY9DJPzWF",
    "outputId": "0998bbbb-4c51-40ce-cd47-3c84064423f3"
   },
   "outputs": [],
   "source": [
    "math.floor(5.0)"
   ]
  },
  {
   "cell_type": "code",
   "execution_count": null,
   "metadata": {
    "colab": {
     "base_uri": "https://localhost:8080/"
    },
    "id": "Snb12la9PzWG",
    "outputId": "1c5dd211-bafb-43b6-b0e1-a2b11e5f2ba1"
   },
   "outputs": [],
   "source": [
    "math.floor(-2.346)"
   ]
  },
  {
   "cell_type": "code",
   "execution_count": null,
   "metadata": {
    "colab": {
     "base_uri": "https://localhost:8080/"
    },
    "id": "CxJMLzhTSHAT",
    "outputId": "da66f1cc-8569-4c0b-faff-32e2052e96dd"
   },
   "outputs": [],
   "source": [
    "#開根號\n",
    "math.sqrt(25)"
   ]
  },
  {
   "cell_type": "code",
   "execution_count": null,
   "metadata": {
    "colab": {
     "base_uri": "https://localhost:8080/"
    },
    "id": "RYFT-hv5SveE",
    "outputId": "d7d32d17-20c4-4d83-dd6f-f2402abc1081"
   },
   "outputs": [],
   "source": [
    "math.sqrt(1.21)"
   ]
  },
  {
   "cell_type": "code",
   "execution_count": null,
   "metadata": {
    "colab": {
     "base_uri": "https://localhost:8080/"
    },
    "id": "tF5xg23DSz2a",
    "outputId": "f837c596-0933-40f3-f306-f9652fc93a19"
   },
   "outputs": [],
   "source": [
    "#使用變數做運算\n",
    "a = 100\n",
    "math.sqrt(a)"
   ]
  },
  {
   "cell_type": "code",
   "execution_count": null,
   "metadata": {
    "colab": {
     "base_uri": "https://localhost:8080/"
    },
    "id": "S_kohwgdTHTT",
    "outputId": "b9dabdb6-12b6-440c-c67a-0a7243e94c54"
   },
   "outputs": [],
   "source": [
    "#指數\n",
    "b = 10\n",
    "math.exp(b)"
   ]
  },
  {
   "cell_type": "code",
   "execution_count": null,
   "metadata": {
    "colab": {
     "base_uri": "https://localhost:8080/"
    },
    "id": "_bhQ5HzR1HxM",
    "outputId": "1d69e5c3-3bd0-4c21-cb08-c4e834b3d865"
   },
   "outputs": [],
   "source": [
    "c = 2\n",
    "math.pow(10,c)"
   ]
  },
  {
   "cell_type": "code",
   "execution_count": null,
   "metadata": {
    "colab": {
     "base_uri": "https://localhost:8080/"
    },
    "id": "DvEjuX12iD1Z",
    "outputId": "02066eaf-e0d9-4333-f79c-37251ff59b3d"
   },
   "outputs": [],
   "source": [
    "10 ** c"
   ]
  },
  {
   "cell_type": "code",
   "execution_count": null,
   "metadata": {
    "colab": {
     "base_uri": "https://localhost:8080/"
    },
    "id": "D4pD017KTRDE",
    "outputId": "274b10a7-9e5c-485b-e5a7-d243d5765528"
   },
   "outputs": [],
   "source": [
    "#對數\n",
    "math.log10(b)"
   ]
  },
  {
   "cell_type": "markdown",
   "metadata": {
    "id": "zszGH2aaP_XQ"
   },
   "source": [
    "* 三角函數"
   ]
  },
  {
   "cell_type": "code",
   "execution_count": null,
   "metadata": {
    "colab": {
     "base_uri": "https://localhost:8080/"
    },
    "id": "4__yLPVjTS9T",
    "outputId": "1518cd61-dcb6-4571-b1d0-e34bb4ac5211"
   },
   "outputs": [],
   "source": [
    "#三角函數\n",
    "theta = math.pi\n",
    "x = math.cos(theta)\n",
    "print(x)"
   ]
  },
  {
   "cell_type": "code",
   "execution_count": null,
   "metadata": {
    "colab": {
     "base_uri": "https://localhost:8080/"
    },
    "id": "M9gS1xMXip9I",
    "outputId": "c9f71fa3-a363-4d9f-8b81-636b3522ea80"
   },
   "outputs": [],
   "source": [
    "math.pi"
   ]
  },
  {
   "cell_type": "code",
   "execution_count": null,
   "metadata": {
    "colab": {
     "base_uri": "https://localhost:8080/"
    },
    "id": "TtDTrSClPaoq",
    "outputId": "459768db-839e-4cda-9be3-fb61721dc689"
   },
   "outputs": [],
   "source": [
    "#如果不想這麼麻煩在前面輸入 math.__\n",
    "#\"*\" 表示全部\n",
    "from math import *\n",
    "print(cos(pi))"
   ]
  },
  {
   "cell_type": "code",
   "execution_count": null,
   "metadata": {
    "colab": {
     "base_uri": "https://localhost:8080/"
    },
    "id": "s0ygLa9iQEr6",
    "outputId": "31ff92ff-2795-4484-e532-7334d54e80f9"
   },
   "outputs": [],
   "source": [
    "#查閱math模組的符號使用\n",
    "print(dir(math))"
   ]
  },
  {
   "cell_type": "code",
   "execution_count": null,
   "metadata": {
    "colab": {
     "base_uri": "https://localhost:8080/"
    },
    "id": "8_DA3h4j1nsM",
    "outputId": "9966a41b-e9cb-4735-9f6e-38c88fabf338"
   },
   "outputs": [],
   "source": [
    "#另一種直接輸出法\n",
    "dir(math)"
   ]
  },
  {
   "cell_type": "code",
   "execution_count": null,
   "metadata": {
    "colab": {
     "base_uri": "https://localhost:8080/"
    },
    "id": "7hyKXanJQ_kh",
    "outputId": "45c0df66-14bf-45f1-c6f0-4710eed5f8f9"
   },
   "outputs": [],
   "source": [
    "#使用說明\n",
    "help(math.cos)"
   ]
  },
  {
   "cell_type": "code",
   "execution_count": null,
   "metadata": {
    "colab": {
     "base_uri": "https://localhost:8080/"
    },
    "id": "0lSXZezaRblv",
    "outputId": "ec9c1924-cbda-48ff-9e52-13454a833fad"
   },
   "outputs": [],
   "source": [
    "#對數（底數為e）\n",
    "log(10)"
   ]
  },
  {
   "cell_type": "code",
   "execution_count": null,
   "metadata": {
    "colab": {
     "base_uri": "https://localhost:8080/"
    },
    "id": "_IWZZgMHSJqm",
    "outputId": "5c7159e0-b7e0-49a7-99da-c665cc022fd3"
   },
   "outputs": [],
   "source": [
    "#對數（底數為10）\n",
    "log(10,10)"
   ]
  },
  {
   "cell_type": "markdown",
   "metadata": {
    "id": "oSKyE4HMRjJp"
   },
   "source": [
    "Some very useful modules form the Python standard library are ''os'', 'sys', 'math', 'shutil', 're', 'subprocess', 'multiprocessing', 'threading'."
   ]
  },
  {
   "cell_type": "code",
   "execution_count": null,
   "metadata": {
    "colab": {
     "base_uri": "https://localhost:8080/"
    },
    "id": "SCBneXuATVS1",
    "outputId": "0856a820-f93e-467a-d27d-cf6776905f82"
   },
   "outputs": [],
   "source": [
    "#極大極小值\n",
    "\n",
    "d = [2, 4, 6, 8]\n",
    "max(d)"
   ]
  },
  {
   "cell_type": "code",
   "execution_count": null,
   "metadata": {
    "colab": {
     "base_uri": "https://localhost:8080/"
    },
    "id": "zXvf3DAnTZir",
    "outputId": "b9944359-1c5c-4972-da43-80fa3c92173c"
   },
   "outputs": [],
   "source": [
    "min(d)"
   ]
  },
  {
   "cell_type": "code",
   "execution_count": null,
   "metadata": {
    "colab": {
     "base_uri": "https://localhost:8080/"
    },
    "id": "TyuviZDK6745",
    "outputId": "a44608df-2043-4b1a-edbd-6b815bc477ab"
   },
   "outputs": [],
   "source": [
    "help(max)"
   ]
  },
  {
   "cell_type": "code",
   "execution_count": null,
   "metadata": {
    "colab": {
     "base_uri": "https://localhost:8080/"
    },
    "id": "c8CX1WXi63WJ",
    "outputId": "28028c37-fc81-495c-fbf1-172c017eac8e"
   },
   "outputs": [],
   "source": [
    "max(3,5,7,2,4,6)"
   ]
  },
  {
   "cell_type": "markdown",
   "metadata": {
    "id": "n9OdUSjp69ob"
   },
   "source": [
    "## Define a function (定義函式)"
   ]
  },
  {
   "cell_type": "code",
   "execution_count": null,
   "metadata": {
    "colab": {
     "base_uri": "https://localhost:8080/"
    },
    "id": "WcbBb2zZS0BV",
    "outputId": "41db7678-4fb2-4359-eb76-c72f00163a67"
   },
   "outputs": [],
   "source": [
    "def func_0():\n",
    "  print(\"This is a test.\")\n",
    "\n",
    "func_0()\n"
   ]
  },
  {
   "cell_type": "code",
   "execution_count": null,
   "metadata": {
    "id": "UfOH7B4wTMsd"
   },
   "outputs": [],
   "source": [
    "def func_1(string):\n",
    "  \"\"\"\n",
    "  這是說明文字\n",
    "  \"\"\"\n",
    "  print(string + \" has \" + str(len(string)) + \" legs.\")\n"
   ]
  },
  {
   "cell_type": "code",
   "execution_count": null,
   "metadata": {
    "colab": {
     "base_uri": "https://localhost:8080/"
    },
    "id": "UWXV0SDmU3aq",
    "outputId": "ba45992f-05d9-4947-8e79-5ce1e58c2ee0"
   },
   "outputs": [],
   "source": [
    "help(func_1)"
   ]
  },
  {
   "cell_type": "code",
   "execution_count": null,
   "metadata": {
    "colab": {
     "base_uri": "https://localhost:8080/"
    },
    "id": "lHuasxisVMMy",
    "outputId": "b6e42f63-9e0d-4d91-921f-90968eb1e073"
   },
   "outputs": [],
   "source": [
    "func_1(\"marry \")"
   ]
  },
  {
   "cell_type": "code",
   "execution_count": null,
   "metadata": {
    "id": "IMuxrZHT7F-L"
   },
   "outputs": [],
   "source": [
    "def square(x):\n",
    "    \"\"\"\n",
    "    Return the square of x.\n",
    "    \"\"\"\n",
    "    return x ** 2"
   ]
  },
  {
   "cell_type": "code",
   "execution_count": null,
   "metadata": {
    "colab": {
     "base_uri": "https://localhost:8080/"
    },
    "id": "UQXivuhe7L_C",
    "outputId": "ee37aefa-d3c0-4d5d-c12f-b4836b72edb0"
   },
   "outputs": [],
   "source": [
    "result = square(50)\n",
    "\n",
    "print(result)"
   ]
  },
  {
   "cell_type": "markdown",
   "metadata": {
    "id": "NEz5LrxUrD9K"
   },
   "source": [
    "範例：計算『水』的莫耳數(**mole**)與質量(**m**)的換算\n",
    "\n",
    "質量(**m**)=莫耳數(**mole**) x 分子量(**M**) \n",
    "\n",
    "$m(g)=mole×M(g/mole)$"
   ]
  },
  {
   "cell_type": "code",
   "execution_count": null,
   "metadata": {
    "colab": {
     "base_uri": "https://localhost:8080/"
    },
    "id": "1ncq_coXsnML",
    "outputId": "c65c1d45-26ef-491d-d300-036d86b76814"
   },
   "outputs": [],
   "source": [
    "#水(H2O)的分子量 M = ? (H:1 g/mole; O:16 g/mole)\n",
    "M= 1*2 + 16*1\n",
    "\n",
    "print(M)"
   ]
  },
  {
   "cell_type": "code",
   "execution_count": null,
   "metadata": {
    "id": "GUbKM-txtg3D"
   },
   "outputs": [],
   "source": [
    "#定義計算莫耳數-質量轉換的函式\n",
    "def mass(nmole):\n",
    "  m = nmole * M\n",
    "  return m"
   ]
  },
  {
   "cell_type": "code",
   "execution_count": null,
   "metadata": {
    "colab": {
     "base_uri": "https://localhost:8080/"
    },
    "id": "SKTDMrV_uVaw",
    "outputId": "551ac894-33a8-4fa4-b785-790588dd200c"
   },
   "outputs": [],
   "source": [
    "#直接執行mass函式計算\n",
    "mass(1)"
   ]
  },
  {
   "cell_type": "code",
   "execution_count": null,
   "metadata": {
    "colab": {
     "base_uri": "https://localhost:8080/"
    },
    "id": "EkFTsR1mujZ2",
    "outputId": "d8c86d8e-2a40-493d-914f-fd449d5fe267"
   },
   "outputs": [],
   "source": [
    "#另外宣告變數，將變數帶進函式計算\n",
    "n_mole=15\n",
    "mass(n_mole)\n"
   ]
  },
  {
   "cell_type": "markdown",
   "metadata": {
    "id": "LBjnJhIQvBhR"
   },
   "source": [
    "練習：計算n莫耳數理想氣體的體積(L)\n",
    "\n",
    "理想氣體方程式 \n",
    "\n",
    "$PV=nRT$ \n",
    "\n",
    "*p*(atm) = 1 (atm)\n",
    "\n",
    "*V* (L) \n",
    "\n",
    "*n* (mole) \n",
    "\n",
    "*R* (L atm/mole K) = 0.082 (L atm/mole K) \n",
    "\n",
    "*T* (K) = 300 K \n",
    "\n",
    "*V=nRT/P*\n",
    "\n"
   ]
  },
  {
   "cell_type": "code",
   "execution_count": null,
   "metadata": {
    "id": "9uXTJLrhxOzl"
   },
   "outputs": [],
   "source": [
    "#定義參數與常數\n",
    "P=1\n",
    "R=\n",
    "T=\n"
   ]
  },
  {
   "cell_type": "code",
   "execution_count": null,
   "metadata": {
    "id": "Z406svERvANY"
   },
   "outputs": [],
   "source": [
    "#定義函式\n",
    "\n"
   ]
  },
  {
   "cell_type": "code",
   "execution_count": null,
   "metadata": {
    "colab": {
     "base_uri": "https://localhost:8080/"
    },
    "id": "VJWReF-vyKv5",
    "outputId": "e61f6f64-5502-4401-fdf7-f3ae2b984397"
   },
   "outputs": [],
   "source": [
    "#執行函式\n",
    "\n"
   ]
  },
  {
   "cell_type": "code",
   "execution_count": null,
   "metadata": {
    "colab": {
     "base_uri": "https://localhost:8080/"
    },
    "id": "R-qd7jxTUXL1",
    "outputId": "48a46589-4288-4a2d-f41d-ae033cc6e81d"
   },
   "outputs": [],
   "source": [
    "#Import numerical python module\n",
    "import numpy\n",
    "x = numpy.linspace(1,100,100)\n",
    "print(type(x))\n",
    "print(x)"
   ]
  },
  {
   "cell_type": "code",
   "execution_count": null,
   "metadata": {
    "colab": {
     "base_uri": "https://localhost:8080/"
    },
    "id": "TVgQF9ATU5qj",
    "outputId": "3b2a9488-088c-49dc-8518-c7f454220045"
   },
   "outputs": [],
   "source": [
    "square(x)"
   ]
  },
  {
   "cell_type": "code",
   "execution_count": null,
   "metadata": {},
   "outputs": [],
   "source": []
  },
  {
   "cell_type": "markdown",
   "metadata": {
    "id": "2fXb0h5XZWPV"
   },
   "source": [
    "我們也可以用“元組” (tuple) 的方式輸出函式結果"
   ]
  },
  {
   "cell_type": "code",
   "execution_count": null,
   "metadata": {
    "id": "FDYiIrb5WRTC"
   },
   "outputs": [],
   "source": [
    "def powers(x):\n",
    "    \"\"\"\n",
    "    Return a few powers of x.\n",
    "    \"\"\"\n",
    "    return x ** 2, x ** 3, x ** 4"
   ]
  },
  {
   "cell_type": "code",
   "execution_count": null,
   "metadata": {
    "colab": {
     "base_uri": "https://localhost:8080/"
    },
    "id": "qPQpF1YbWTFZ",
    "outputId": "4bbb643e-165d-4269-8805-416982bc4232"
   },
   "outputs": [],
   "source": [
    "powers(3)"
   ]
  },
  {
   "cell_type": "code",
   "execution_count": null,
   "metadata": {
    "colab": {
     "base_uri": "https://localhost:8080/"
    },
    "id": "K44irgxFCCd6",
    "outputId": "17734415-7f19-43d5-f3b7-25eba23a5a97"
   },
   "outputs": [],
   "source": [
    "type(powers(3))"
   ]
  },
  {
   "cell_type": "code",
   "execution_count": null,
   "metadata": {
    "colab": {
     "base_uri": "https://localhost:8080/"
    },
    "id": "MeZKtCxzCFA1",
    "outputId": "63f7fbd7-8ce9-4989-ae78-56f6b84d28da"
   },
   "outputs": [],
   "source": [
    "test = powers(3)\n",
    "test"
   ]
  },
  {
   "cell_type": "markdown",
   "metadata": {
    "id": "bt4sM6cgZzU8"
   },
   "source": [
    "承接『元組』的資料內容也要使用\",\"加以區隔 ex. x, y, z"
   ]
  },
  {
   "cell_type": "code",
   "execution_count": null,
   "metadata": {
    "id": "wAld1LFnWYah"
   },
   "outputs": [],
   "source": [
    "x2, x3, x4 = powers(3)"
   ]
  },
  {
   "cell_type": "code",
   "execution_count": null,
   "metadata": {
    "colab": {
     "base_uri": "https://localhost:8080/"
    },
    "id": "u1eAahilWcNB",
    "outputId": "59e7e8a6-80ea-406f-aab3-df22d68e88b4"
   },
   "outputs": [],
   "source": [
    "print(x2,x3,x4)"
   ]
  },
  {
   "cell_type": "code",
   "execution_count": null,
   "metadata": {
    "id": "U6F3rHxBajjM"
   },
   "outputs": [],
   "source": []
  },
  {
   "cell_type": "markdown",
   "metadata": {
    "id": "QVPdtffGalu2"
   },
   "source": [
    "## Numerical array (Numpy 陣列)"
   ]
  },
  {
   "cell_type": "markdown",
   "metadata": {
    "id": "5Rif0RxZsZp6"
   },
   "source": [
    "讀進 numpy module\n"
   ]
  },
  {
   "cell_type": "code",
   "execution_count": null,
   "metadata": {
    "id": "LcRLWUa5sCOh"
   },
   "outputs": [],
   "source": [
    "import numpy"
   ]
  },
  {
   "cell_type": "markdown",
   "metadata": {
    "id": "vyatXlu2sexd"
   },
   "source": [
    "Numpy array (陣列) 是一串專門用來處理計算的數字陣列，可以是一維、矩陣、或是高維度陣列。\n",
    "\n",
    "要產生 Numpy array 有以下幾種方式：\n",
    "* 從Python的串列(List)或元組(Tuple)轉變而來\n",
    "* 使用函式產生，像是`numpy.arange`或是`numpy.linspace`\n",
    "* 從外部讀入檔案時，直接轉變\n"
   ]
  },
  {
   "cell_type": "markdown",
   "metadata": {
    "id": "rYwcHZ4RtjKq"
   },
   "source": [
    "**從List**"
   ]
  },
  {
   "cell_type": "code",
   "execution_count": null,
   "metadata": {
    "id": "AXTNaO5NtZf8"
   },
   "outputs": [],
   "source": [
    "array1 = numpy.array([1, 2, 3, 4, 5])\n",
    "print(array1)"
   ]
  },
  {
   "cell_type": "code",
   "execution_count": null,
   "metadata": {
    "id": "sYe0xBKAuFua"
   },
   "outputs": [],
   "source": [
    "matrix1 = numpy.array([[1,2],[3,4]])\n",
    "print(matrix1)"
   ]
  },
  {
   "cell_type": "code",
   "execution_count": null,
   "metadata": {
    "id": "qqQeDNGxuubZ"
   },
   "outputs": [],
   "source": [
    "print(type(array1))\n",
    "print(type(matrix1))"
   ]
  },
  {
   "cell_type": "code",
   "execution_count": null,
   "metadata": {
    "id": "vQ-6BQEEu3hx"
   },
   "outputs": [],
   "source": [
    "array1.shape"
   ]
  },
  {
   "cell_type": "code",
   "execution_count": null,
   "metadata": {
    "id": "XmPnjRw8u8Eh"
   },
   "outputs": [],
   "source": [
    "matrix1.shape"
   ]
  },
  {
   "cell_type": "code",
   "execution_count": null,
   "metadata": {
    "id": "kBJDvkYWvAbA"
   },
   "outputs": [],
   "source": [
    "array1.size"
   ]
  },
  {
   "cell_type": "code",
   "execution_count": null,
   "metadata": {
    "id": "a0SgNqKDvEpw"
   },
   "outputs": [],
   "source": [
    "matrix1.size"
   ]
  },
  {
   "cell_type": "markdown",
   "metadata": {
    "id": "xdqu8Z6QvNqe"
   },
   "source": [
    "用函式產生"
   ]
  },
  {
   "cell_type": "code",
   "execution_count": null,
   "metadata": {
    "id": "Mn3o-Aw_vSvQ"
   },
   "outputs": [],
   "source": [
    "# Use \"arange\"\n",
    "array2 = numpy.arange(0, 10, 1) # arguments: start, stop, step\n",
    "print(array2)"
   ]
  },
  {
   "cell_type": "code",
   "execution_count": null,
   "metadata": {
    "id": "9xyNoR3G1g6p"
   },
   "outputs": [],
   "source": [
    "help(numpy.arange)"
   ]
  },
  {
   "cell_type": "code",
   "execution_count": null,
   "metadata": {
    "id": "pmFXUrEJv1R_"
   },
   "outputs": [],
   "source": [
    "array3 = numpy.arange(-1, 1, 0.1)\n",
    "print(array3)"
   ]
  },
  {
   "cell_type": "code",
   "execution_count": null,
   "metadata": {
    "id": "AdaaSCiNvkVv"
   },
   "outputs": [],
   "source": [
    "# Use \"linspace\", both end points ARE included\n",
    "array4 = numpy.linspace(0,10,10) # arguments: start, stop, number_of_intevals\n",
    "print(array4)"
   ]
  },
  {
   "cell_type": "code",
   "execution_count": null,
   "metadata": {
    "id": "A8i0MtwHve8g"
   },
   "outputs": [],
   "source": [
    "array5 = numpy.linspace(0,10,11)\n",
    "print(array5)"
   ]
  },
  {
   "cell_type": "code",
   "execution_count": null,
   "metadata": {
    "id": "M2kCof4pwt_-"
   },
   "outputs": [],
   "source": [
    "array6 = numpy.linspace(0,10, 101)\n",
    "print(array6)"
   ]
  },
  {
   "cell_type": "markdown",
   "metadata": {
    "id": "9F-vJ0UbG5fi"
   },
   "source": [
    "## Plotting (簡單繪圖)"
   ]
  },
  {
   "cell_type": "code",
   "execution_count": null,
   "metadata": {
    "id": "Kcd5uHgXG_TA"
   },
   "outputs": [],
   "source": [
    "import numpy\n",
    "import matplotlib.pyplot as plt"
   ]
  },
  {
   "cell_type": "code",
   "execution_count": null,
   "metadata": {
    "id": "Rn6OWWWs2Yoh"
   },
   "outputs": [],
   "source": [
    "x = numpy.random.normal(5.0, 1.0, 100000) #產生100,000個隨機數值其平均值為5，標準偏差為1.0"
   ]
  },
  {
   "cell_type": "code",
   "execution_count": null,
   "metadata": {
    "colab": {
     "base_uri": "https://localhost:8080/"
    },
    "id": "LxVNoMda3A-z",
    "outputId": "271341b0-5614-4a96-c99a-201cdda60047"
   },
   "outputs": [],
   "source": [
    "help(numpy.random.normal)"
   ]
  },
  {
   "cell_type": "code",
   "execution_count": null,
   "metadata": {
    "colab": {
     "base_uri": "https://localhost:8080/"
    },
    "id": "Oqugokr3HEcq",
    "outputId": "e3468cc0-a7eb-41c3-c0e5-a1f147cd76da"
   },
   "outputs": [],
   "source": [
    "# 印出數值\n",
    "print(x)"
   ]
  },
  {
   "cell_type": "code",
   "execution_count": null,
   "metadata": {
    "colab": {
     "base_uri": "https://localhost:8080/",
     "height": 447
    },
    "id": "zvuu8-ZZHJsf",
    "outputId": "e7f5603b-71c2-448d-ce93-0f3f66e3d9a9"
   },
   "outputs": [],
   "source": [
    "plt.plot(x)"
   ]
  },
  {
   "cell_type": "code",
   "execution_count": null,
   "metadata": {
    "colab": {
     "base_uri": "https://localhost:8080/",
     "height": 430
    },
    "id": "Etk8q-Dq2hch",
    "outputId": "8edeb4bf-baef-4816-c3ca-aaf19e200079"
   },
   "outputs": [],
   "source": [
    "plt.hist(x, 100)\n",
    "plt.show()"
   ]
  },
  {
   "cell_type": "code",
   "execution_count": null,
   "metadata": {
    "colab": {
     "base_uri": "https://localhost:8080/"
    },
    "id": "T2HGxWh0HM1-",
    "outputId": "02b37d30-f886-46a3-b771-c4996455d0e8"
   },
   "outputs": [],
   "source": [
    "print(dir(plt))"
   ]
  },
  {
   "cell_type": "code",
   "execution_count": null,
   "metadata": {
    "colab": {
     "base_uri": "https://localhost:8080/"
    },
    "id": "3Kf-eyAh64_y",
    "outputId": "3cd6df37-8d18-4d15-c53c-f9b8fd4b6688"
   },
   "outputs": [],
   "source": [
    "type(dir(plt))"
   ]
  },
  {
   "cell_type": "code",
   "execution_count": null,
   "metadata": {
    "colab": {
     "base_uri": "https://localhost:8080/"
    },
    "id": "iHs7aTqi7R7J",
    "outputId": "08f245a0-70d7-416d-c7f5-80e7f496a1f2"
   },
   "outputs": [],
   "source": [
    "dir(plt)"
   ]
  },
  {
   "cell_type": "code",
   "execution_count": null,
   "metadata": {
    "id": "X089ieXSRZvP"
   },
   "outputs": [],
   "source": [
    "#練習：請自行產生兩個一維 numpy 陣列 x 以及 y，並繪製 x-y 散點圖\n"
   ]
  },
  {
   "cell_type": "code",
   "execution_count": null,
   "metadata": {
    "id": "TmoWXVVJVARi"
   },
   "outputs": [],
   "source": [
    "\n",
    "x=numpy.array( [1,2,3,4,5]) # 括號內填入list形式的資料 e,g., [1,2,3,4,5]\n",
    "y=numpy.array([1,4,9,16,25])               # 請自行決定y值(參照x的定義方式)\n"
   ]
  },
  {
   "cell_type": "code",
   "execution_count": null,
   "metadata": {
    "colab": {
     "base_uri": "https://localhost:8080/",
     "height": 430
    },
    "id": "Xmi_a3FsVCjC",
    "outputId": "87c9a170-1c76-41cd-b6ae-d481bfd89b31"
   },
   "outputs": [],
   "source": [
    "plt.scatter(x,y) # 如何填入 x 與 y?\n",
    "plt.show()"
   ]
  },
  {
   "cell_type": "markdown",
   "metadata": {
    "id": "LiODmKoAr70x"
   },
   "source": [
    "練習：驗證理想氣體的[查理定律](https://zh.wikipedia.org/zh-tw/%E6%9F%A5%E7%90%86%E5%AE%9A%E5%BE%8B)\n",
    "\n",
    "$V\\propto T$ at constant $P$ \n",
    "\n",
    "請使用理想氣體實驗的[模擬程式](https://phet.colorado.edu/sims/html/gas-properties/latest/gas-properties_en.html)收集數據V,T並作圖 \n",
    "\n",
    "1. 點選`Ideal`\n",
    "2. 點選\"+\" Particles --> 50 Light balls\n",
    "3. 點選 `Width` (此選項可標記Box長度)\n",
    "4. 將Box長度拉到15nm\n",
    "5. 等待壓力Pressure漸趨穩定（在一範圍值內擾動，例如 3.5-4.0）\n",
    "6. 點選 `Pressure (HOLD CONSTANT)` T 自由變動 （此選項讓我們能固定目前壓力(請紀錄)，控制體積V）\n",
    "7. 紀錄當下體積V以及溫度T，為第一組資料\n",
    "8. 調整體積V縮短1nm (至14nm)，紀錄T，為第二組資料\n",
    "9. 反覆step 8直到V不能變更小\n",
    "10. 將V以及T的值輸入Colab\n",
    "11. 作 V vs T 圖，V-T成什麼關係？\n",
    "12. 你的結論是什麼?\n",
    "\n"
   ]
  },
  {
   "cell_type": "code",
   "execution_count": null,
   "metadata": {
    "id": "4DYzNZfXWV9R"
   },
   "outputs": [],
   "source": [
    "#宣告numpy陣列 V 以及 T\n"
   ]
  },
  {
   "cell_type": "code",
   "execution_count": null,
   "metadata": {
    "id": "VXt_n88Wu_BA"
   },
   "outputs": [],
   "source": [
    "#繪圖\n"
   ]
  },
  {
   "cell_type": "code",
   "execution_count": null,
   "metadata": {
    "id": "GJ1UlBA-l689"
   },
   "outputs": [],
   "source": []
  }
 ],
 "metadata": {
  "colab": {
   "collapsed_sections": [
    "8GLI1eFsPzV6",
    "Xz6XRKAVPzV8",
    "OW7JcyZ-2qK1",
    "qfpbl8q9SjME",
    "n9OdUSjp69ob",
    "QVPdtffGalu2",
    "9F-vJ0UbG5fi"
   ],
   "provenance": []
  },
  "kernelspec": {
   "display_name": "Python 3",
   "language": "python",
   "name": "python3"
  },
  "language_info": {
   "codemirror_mode": {
    "name": "ipython",
    "version": 3
   },
   "file_extension": ".py",
   "mimetype": "text/x-python",
   "name": "python",
   "nbconvert_exporter": "python",
   "pygments_lexer": "ipython3",
   "version": "3.7.3"
  }
 },
 "nbformat": 4,
 "nbformat_minor": 4
}
