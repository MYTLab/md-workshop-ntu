{
 "cells": [
  {
   "cell_type": "markdown",
   "id": "209b7ea0",
   "metadata": {},
   "source": [
    "# \"看見\"粒子動起來!\n",
    "1. 初始化 (準備粒子的起始位置、初速度+盒子大小+週期邊界條件)\n",
    "2. 更新 (粒子運動的演算法+週期邊界條件)\n",
    "3. 執行 (反覆迭代產生軌跡+3D繪圖)\n",
    "\n",
    "參考資料\n",
    "[PolymerTheory](https://youtube.com/@polymertheory?si=86byl9CvauC-Ttx)"
   ]
  },
  {
   "cell_type": "markdown",
   "id": "f9e41666",
   "metadata": {},
   "source": [
    "## Visualization version"
   ]
  },
  {
   "cell_type": "markdown",
   "id": "42f4cd69",
   "metadata": {
    "jp-MarkdownHeadingCollapsed": true
   },
   "source": [
    "### 1. 初始化"
   ]
  },
  {
   "cell_type": "code",
   "execution_count": null,
   "id": "c50cd45a",
   "metadata": {},
   "outputs": [],
   "source": [
    "#import numerical library (匯入函式庫)\n",
    "import numpy as np"
   ]
  },
  {
   "cell_type": "code",
   "execution_count": null,
   "id": "618b5f6b",
   "metadata": {},
   "outputs": [],
   "source": [
    "#parameters\n",
    "n = 5 # number of particles (粒子的數量)\n",
    "D = 3 # dimensions (維度)\n",
    "\n",
    "#---- new addition ----#\n",
    "LL = 100 # box size (盒子大小)\n",
    "BC = 1 # PBC switch; on/off=1/0\n",
    "#----------------------#\n",
    "\n",
    "dt = 0.1 # time interval (時間的間隔)\n",
    "t_steps = 100 # time steps (時間步數)\n",
    "\n",
    "#---- new addition ----#\n",
    "#set dimensions of the system, all set to the same\n",
    "L = np.zeros(D) + LL\n",
    "#----------------------#\n",
    "\n",
    "#arrays of variables\n",
    "#---- new modification ----#\n",
    "r = LL*np.random.rand(n,D) # initialize random positions for n particles in D dimensions\n",
    "#--------------------------#\n",
    "\n",
    "v = 100*(np.random.rand(n,D)-0.5) # initialize random velocities for n particles in D dimensions"
   ]
  },
  {
   "cell_type": "code",
   "execution_count": null,
   "id": "dc00def8",
   "metadata": {},
   "outputs": [],
   "source": [
    "L"
   ]
  },
  {
   "cell_type": "code",
   "execution_count": null,
   "id": "9d19f30b",
   "metadata": {},
   "outputs": [],
   "source": [
    "r"
   ]
  },
  {
   "cell_type": "code",
   "execution_count": null,
   "id": "45053462",
   "metadata": {},
   "outputs": [],
   "source": [
    "r[4]"
   ]
  },
  {
   "cell_type": "code",
   "execution_count": null,
   "id": "f6ba375b",
   "metadata": {},
   "outputs": [],
   "source": [
    "r[0][2]"
   ]
  },
  {
   "cell_type": "code",
   "execution_count": null,
   "id": "0aa71add",
   "metadata": {},
   "outputs": [],
   "source": [
    "v"
   ]
  },
  {
   "cell_type": "markdown",
   "id": "ba2b9908",
   "metadata": {},
   "source": [
    "### 2. 更新"
   ]
  },
  {
   "cell_type": "code",
   "execution_count": null,
   "id": "2d066282",
   "metadata": {},
   "outputs": [],
   "source": [
    "#update subroutine (更新內容-子程序)\n",
    "#def update(r,v,dt):\n",
    "#    r_new = r+v*dt\n",
    "#    return r_new\n",
    "\n",
    "#---- new addition ----#\n",
    "#Use this if periodic boundary condition is an option\n",
    "def update(r,v,dt):\n",
    "    r_new = r+v*dt\n",
    "    if BC==1:\n",
    "        r_new = (r+v*dt)%L\n",
    "    return r_new\n",
    "#----------------------#"
   ]
  },
  {
   "cell_type": "markdown",
   "id": "c041c001",
   "metadata": {},
   "source": [
    "### 3. 執行"
   ]
  },
  {
   "cell_type": "code",
   "execution_count": null,
   "id": "74003c7f",
   "metadata": {},
   "outputs": [],
   "source": [
    "#---- new addition ----#\n",
    "#for plotting\n",
    "from mpl_toolkits import mplot3d\n",
    "import pylab as pl\n",
    "from IPython import display\n",
    "%matplotlib inline\n",
    "import matplotlib.pyplot as plt\n",
    "#----------------------#"
   ]
  },
  {
   "cell_type": "code",
   "execution_count": null,
   "id": "1351ec8e",
   "metadata": {},
   "outputs": [],
   "source": [
    "#run (執行)\n",
    "#---- new addition ----#\n",
    "fig = plt.figure() # create figure object\n",
    "#----------------------#\n",
    "\n",
    "for i in range(t_steps):\n",
    "    r_out = update(r,v,dt)\n",
    "    r = r_out\n",
    "    print(i)\n",
    "    print(r_out)\n",
    "    #---- new addition ----#\n",
    "    ax = plt.axes(projection='3d')\n",
    "    ax.set_xlim3d(0, L[0])\n",
    "    ax.set_ylim3d(0, L[1])\n",
    "    ax.set_zlim3d(0, L[2])\n",
    "    ax.scatter3D([item[0]for item in r], [item[1] for item in r], [item[2] for item in r])\n",
    "    display.clear_output(wait=True)\n",
    "    display.display(pl.gcf())\n",
    "    #----------------------#\n"
   ]
  },
  {
   "cell_type": "code",
   "execution_count": null,
   "id": "3eb17ff6",
   "metadata": {},
   "outputs": [],
   "source": []
  },
  {
   "cell_type": "markdown",
   "id": "831fd36d",
   "metadata": {},
   "source": [
    "### 練習\n",
    "請試著修改程式使得粒子碰到邊界會直接反射，而非週期性鏡像。\n",
    "\n",
    "提示：修改第2小節-**更新**的`update`函式。"
   ]
  },
  {
   "cell_type": "code",
   "execution_count": null,
   "id": "47062aa1",
   "metadata": {},
   "outputs": [],
   "source": []
  }
 ],
 "metadata": {
  "kernelspec": {
   "display_name": "Python 3",
   "language": "python",
   "name": "python3"
  },
  "language_info": {
   "codemirror_mode": {
    "name": "ipython",
    "version": 3
   },
   "file_extension": ".py",
   "mimetype": "text/x-python",
   "name": "python",
   "nbconvert_exporter": "python",
   "pygments_lexer": "ipython3",
   "version": "3.7.3"
  }
 },
 "nbformat": 4,
 "nbformat_minor": 5
}
